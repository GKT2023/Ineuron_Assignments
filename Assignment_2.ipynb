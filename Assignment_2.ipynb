{
  "nbformat": 4,
  "nbformat_minor": 0,
  "metadata": {
    "colab": {
      "provenance": []
    },
    "kernelspec": {
      "name": "python3",
      "display_name": "Python 3"
    },
    "language_info": {
      "name": "python"
    }
  },
  "cells": [
    {
      "cell_type": "markdown",
      "source": [
        "## 1. What are the two values of the Boolean data type? How do you write them?"
      ],
      "metadata": {
        "id": "uIBtnYHpeFxm"
      }
    },
    {
      "cell_type": "markdown",
      "source": [
        "boolean data type has two values: True and False.\n",
        "\n",
        "Ex-1: 2 == 2 , output = True\n",
        "\n",
        "Ex-2: 2 == 3, output = False"
      ],
      "metadata": {
        "id": "ScQ_t8yufwzL"
      }
    },
    {
      "cell_type": "code",
      "source": [
        "print(2 == 2)\n",
        "print(2 == 3)"
      ],
      "metadata": {
        "colab": {
          "base_uri": "https://localhost:8080/"
        },
        "id": "BDHHzvoMmnfM",
        "outputId": "dbeab521-6a6f-4bba-e900-e68a44a5f5c4"
      },
      "execution_count": null,
      "outputs": [
        {
          "output_type": "stream",
          "name": "stdout",
          "text": [
            "True\n",
            "False\n"
          ]
        }
      ]
    },
    {
      "cell_type": "markdown",
      "source": [
        "## 2. What are the three different types of Boolean operators?\n",
        "\n"
      ],
      "metadata": {
        "id": "ifo4xpRleJZB"
      }
    },
    {
      "cell_type": "markdown",
      "source": [
        "Boolean operators have three types: and, or , not.\n",
        "\n",
        "## **and**: and return true when all conditions are true.\n"
      ],
      "metadata": {
        "id": "Z5UC5cZflfIe"
      }
    },
    {
      "cell_type": "code",
      "source": [
        "print((4 >= 1) and (4 < 6) and (type(4) == int))"
      ],
      "metadata": {
        "colab": {
          "base_uri": "https://localhost:8080/"
        },
        "id": "eoCZ6jXfmxKF",
        "outputId": "ce6f7c66-75bb-4989-a7d9-3ab688372740"
      },
      "execution_count": null,
      "outputs": [
        {
          "output_type": "stream",
          "name": "stdout",
          "text": [
            "True\n"
          ]
        }
      ]
    },
    {
      "cell_type": "code",
      "source": [
        "print((4 >= 1) and (4 < 6) and (type(4) == str))"
      ],
      "metadata": {
        "colab": {
          "base_uri": "https://localhost:8080/"
        },
        "id": "d9iHVwvWm07U",
        "outputId": "b0847124-2f51-4088-d69c-cd7a7f50b187"
      },
      "execution_count": null,
      "outputs": [
        {
          "output_type": "stream",
          "name": "stdout",
          "text": [
            "False\n"
          ]
        }
      ]
    },
    {
      "cell_type": "markdown",
      "source": [
        "## **or**: or returns true if any of the condition is true"
      ],
      "metadata": {
        "id": "pMTluHnFm9dE"
      }
    },
    {
      "cell_type": "code",
      "source": [
        "print((4 >= 1) or (4 < 6) or (type(4) == str))"
      ],
      "metadata": {
        "colab": {
          "base_uri": "https://localhost:8080/"
        },
        "id": "tG8Qxgkzm8H0",
        "outputId": "3d535773-d406-4c4e-f960-8c813c9a6341"
      },
      "execution_count": null,
      "outputs": [
        {
          "output_type": "stream",
          "name": "stdout",
          "text": [
            "True\n"
          ]
        }
      ]
    },
    {
      "cell_type": "markdown",
      "source": [
        "## **not**: not return opposite of boolean value. if input is true, it returns false, if input is false, it returns true"
      ],
      "metadata": {
        "id": "_r5wfG-7nGgU"
      }
    },
    {
      "cell_type": "code",
      "source": [
        "not True"
      ],
      "metadata": {
        "colab": {
          "base_uri": "https://localhost:8080/"
        },
        "id": "upOGE2tMnQyE",
        "outputId": "76248bb6-4c76-49bb-c1c0-7d670a93b184"
      },
      "execution_count": null,
      "outputs": [
        {
          "output_type": "execute_result",
          "data": {
            "text/plain": [
              "False"
            ]
          },
          "metadata": {},
          "execution_count": 7
        }
      ]
    },
    {
      "cell_type": "code",
      "source": [
        "not (2==2) ## 2 == 2 is true, and not True is False"
      ],
      "metadata": {
        "colab": {
          "base_uri": "https://localhost:8080/"
        },
        "id": "Duw5vlWPnS4b",
        "outputId": "7e8b2f85-22f7-45fd-cf72-fe8fb41c2a26"
      },
      "execution_count": null,
      "outputs": [
        {
          "output_type": "execute_result",
          "data": {
            "text/plain": [
              "False"
            ]
          },
          "metadata": {},
          "execution_count": 19
        }
      ]
    },
    {
      "cell_type": "code",
      "source": [
        "not False"
      ],
      "metadata": {
        "colab": {
          "base_uri": "https://localhost:8080/"
        },
        "id": "NaJ4FLE6nVv0",
        "outputId": "534d859b-0d10-4eef-aea1-20938f25c90f"
      },
      "execution_count": null,
      "outputs": [
        {
          "output_type": "execute_result",
          "data": {
            "text/plain": [
              "True"
            ]
          },
          "metadata": {},
          "execution_count": 10
        }
      ]
    },
    {
      "cell_type": "code",
      "source": [
        "not (type(2) == str) ## type(2) == str is False, and not False is True"
      ],
      "metadata": {
        "colab": {
          "base_uri": "https://localhost:8080/"
        },
        "id": "QRpcystlnZHs",
        "outputId": "71b6e9da-6b7e-4d0c-eb8d-cd8f74b0de68"
      },
      "execution_count": null,
      "outputs": [
        {
          "output_type": "execute_result",
          "data": {
            "text/plain": [
              "True"
            ]
          },
          "metadata": {},
          "execution_count": 20
        }
      ]
    },
    {
      "cell_type": "markdown",
      "source": [
        "## 3. Make a list of each Boolean operator's truth tables (i.e. every possible combination of Boolean values for the operator and what it evaluate )."
      ],
      "metadata": {
        "id": "Uv9nkap1eMd9"
      }
    },
    {
      "cell_type": "markdown",
      "source": [
        "\n",
        "\n",
        "\n",
        "![image.png](data:image/png;base64,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)"
      ],
      "metadata": {
        "id": "GRg4mcRhn9iD"
      }
    },
    {
      "cell_type": "markdown",
      "source": [
        "## 4. What are the values of the following expressions?\n",
        "\n",
        "(5 > 4) and (3 == 5)\n",
        "\n",
        "not (5 > 4)\n",
        "\n",
        "(5 > 4) or (3 == 5)\n",
        "\n",
        "not ((5 > 4) or (3 == 5))\n",
        "\n",
        "(True and True) and (True == False)\n",
        "\n",
        "(not False) or (not True)\n"
      ],
      "metadata": {
        "id": "n9PHQefdeOmt"
      }
    },
    {
      "cell_type": "code",
      "source": [
        "(5 > 4) and (3 == 5)  ## False"
      ],
      "metadata": {
        "colab": {
          "base_uri": "https://localhost:8080/"
        },
        "id": "BokXIi9Lp7xi",
        "outputId": "1f46194d-c579-4541-fdf4-741b9d317e70"
      },
      "execution_count": 21,
      "outputs": [
        {
          "output_type": "execute_result",
          "data": {
            "text/plain": [
              "False"
            ]
          },
          "metadata": {},
          "execution_count": 21
        }
      ]
    },
    {
      "cell_type": "code",
      "source": [
        "not (5 > 4) ## False"
      ],
      "metadata": {
        "colab": {
          "base_uri": "https://localhost:8080/"
        },
        "id": "l5WNysWHqBCp",
        "outputId": "9695f31d-affa-4357-cefc-891c99ea8f5d"
      },
      "execution_count": 22,
      "outputs": [
        {
          "output_type": "execute_result",
          "data": {
            "text/plain": [
              "False"
            ]
          },
          "metadata": {},
          "execution_count": 22
        }
      ]
    },
    {
      "cell_type": "code",
      "source": [
        "(5 > 4) or (3 == 5) # True"
      ],
      "metadata": {
        "colab": {
          "base_uri": "https://localhost:8080/"
        },
        "id": "za-cE4a6qEC5",
        "outputId": "a435190e-e5f2-4fde-ce00-f503cb49ca48"
      },
      "execution_count": 23,
      "outputs": [
        {
          "output_type": "execute_result",
          "data": {
            "text/plain": [
              "True"
            ]
          },
          "metadata": {},
          "execution_count": 23
        }
      ]
    },
    {
      "cell_type": "code",
      "source": [
        "not ((5 > 4) or (3 == 5)) #False"
      ],
      "metadata": {
        "colab": {
          "base_uri": "https://localhost:8080/"
        },
        "id": "xCdSgzuMqHgh",
        "outputId": "afb2d30b-4a85-4b87-9096-356c2a5d6e76"
      },
      "execution_count": 24,
      "outputs": [
        {
          "output_type": "execute_result",
          "data": {
            "text/plain": [
              "False"
            ]
          },
          "metadata": {},
          "execution_count": 24
        }
      ]
    },
    {
      "cell_type": "code",
      "source": [
        "(True and True) and (True == False) # False"
      ],
      "metadata": {
        "colab": {
          "base_uri": "https://localhost:8080/"
        },
        "id": "zzmAmZFbqLoR",
        "outputId": "8ca438a5-8c6b-4052-e574-2d2d473c168d"
      },
      "execution_count": 25,
      "outputs": [
        {
          "output_type": "execute_result",
          "data": {
            "text/plain": [
              "False"
            ]
          },
          "metadata": {},
          "execution_count": 25
        }
      ]
    },
    {
      "cell_type": "code",
      "source": [
        "(not False) or (not True)  # True"
      ],
      "metadata": {
        "colab": {
          "base_uri": "https://localhost:8080/"
        },
        "id": "DH7OHnk3qQ5x",
        "outputId": "27ed0a1d-f91d-40d3-bf8d-a14b07f0a17d"
      },
      "execution_count": 26,
      "outputs": [
        {
          "output_type": "execute_result",
          "data": {
            "text/plain": [
              "True"
            ]
          },
          "metadata": {},
          "execution_count": 26
        }
      ]
    },
    {
      "cell_type": "markdown",
      "source": [
        "## 5.  What are the six comparison operators?"
      ],
      "metadata": {
        "id": "D_1vmPhQeVGU"
      }
    },
    {
      "cell_type": "markdown",
      "source": [
        "Six comparison operators are:  == , >= , <= , >, < , !="
      ],
      "metadata": {
        "id": "pLmKaMLTqUZJ"
      }
    },
    {
      "cell_type": "code",
      "source": [
        "2 == 2 ## check if two values are equal"
      ],
      "metadata": {
        "colab": {
          "base_uri": "https://localhost:8080/"
        },
        "id": "Nv0VQcKEqhyp",
        "outputId": "2d5875bf-6400-4caf-ca20-2296fe85042e"
      },
      "execution_count": 27,
      "outputs": [
        {
          "output_type": "execute_result",
          "data": {
            "text/plain": [
              "True"
            ]
          },
          "metadata": {},
          "execution_count": 27
        }
      ]
    },
    {
      "cell_type": "code",
      "source": [
        "2 == 5"
      ],
      "metadata": {
        "colab": {
          "base_uri": "https://localhost:8080/"
        },
        "id": "geHf6ZXRqnMZ",
        "outputId": "78fe601f-9e94-4488-82fc-5d282d9d4602"
      },
      "execution_count": 28,
      "outputs": [
        {
          "output_type": "execute_result",
          "data": {
            "text/plain": [
              "False"
            ]
          },
          "metadata": {},
          "execution_count": 28
        }
      ]
    },
    {
      "cell_type": "code",
      "source": [
        "2 > 1 # check if left side value is greater than right side value"
      ],
      "metadata": {
        "colab": {
          "base_uri": "https://localhost:8080/"
        },
        "id": "44IKTjI_qptR",
        "outputId": "9d0b0a5e-42c8-42bf-adcf-0e788ffa950c"
      },
      "execution_count": 30,
      "outputs": [
        {
          "output_type": "execute_result",
          "data": {
            "text/plain": [
              "True"
            ]
          },
          "metadata": {},
          "execution_count": 30
        }
      ]
    },
    {
      "cell_type": "code",
      "source": [
        "2 > 7"
      ],
      "metadata": {
        "colab": {
          "base_uri": "https://localhost:8080/"
        },
        "id": "zoi3WdFRqzfh",
        "outputId": "5800dae1-93c1-41a0-a3c9-f98a2d8e2a71"
      },
      "execution_count": 32,
      "outputs": [
        {
          "output_type": "execute_result",
          "data": {
            "text/plain": [
              "False"
            ]
          },
          "metadata": {},
          "execution_count": 32
        }
      ]
    },
    {
      "cell_type": "code",
      "source": [
        "2 < 4 # check if left vaLUE IS smaller than right side value"
      ],
      "metadata": {
        "colab": {
          "base_uri": "https://localhost:8080/"
        },
        "id": "pWIONGylq13I",
        "outputId": "48836b4a-efe3-4a0e-cec9-352850758646"
      },
      "execution_count": 33,
      "outputs": [
        {
          "output_type": "execute_result",
          "data": {
            "text/plain": [
              "True"
            ]
          },
          "metadata": {},
          "execution_count": 33
        }
      ]
    },
    {
      "cell_type": "code",
      "source": [
        "2 < 1"
      ],
      "metadata": {
        "colab": {
          "base_uri": "https://localhost:8080/"
        },
        "id": "mEPGpNz3q69a",
        "outputId": "953c3448-a0b5-45db-9b00-0371cc9495e1"
      },
      "execution_count": 35,
      "outputs": [
        {
          "output_type": "execute_result",
          "data": {
            "text/plain": [
              "False"
            ]
          },
          "metadata": {},
          "execution_count": 35
        }
      ]
    },
    {
      "cell_type": "code",
      "source": [
        "2 != 4 ## check if two values are not equals"
      ],
      "metadata": {
        "colab": {
          "base_uri": "https://localhost:8080/"
        },
        "id": "Z-_BvSlEq9Jg",
        "outputId": "e32b3941-78e7-41df-f2af-388ac9139985"
      },
      "execution_count": 36,
      "outputs": [
        {
          "output_type": "execute_result",
          "data": {
            "text/plain": [
              "True"
            ]
          },
          "metadata": {},
          "execution_count": 36
        }
      ]
    },
    {
      "cell_type": "code",
      "source": [
        "2 !=2"
      ],
      "metadata": {
        "colab": {
          "base_uri": "https://localhost:8080/"
        },
        "id": "91zTp9PgrC_o",
        "outputId": "f409e589-2c7f-41f4-c7de-b197fa4c3812"
      },
      "execution_count": 37,
      "outputs": [
        {
          "output_type": "execute_result",
          "data": {
            "text/plain": [
              "False"
            ]
          },
          "metadata": {},
          "execution_count": 37
        }
      ]
    },
    {
      "cell_type": "code",
      "source": [
        "2 >=1  # check if left side value greater than equalas to right side value"
      ],
      "metadata": {
        "colab": {
          "base_uri": "https://localhost:8080/"
        },
        "id": "CiF6hhh0rGlg",
        "outputId": "a430026d-f41d-49c9-a131-f5b7ac67a6b3"
      },
      "execution_count": 38,
      "outputs": [
        {
          "output_type": "execute_result",
          "data": {
            "text/plain": [
              "True"
            ]
          },
          "metadata": {},
          "execution_count": 38
        }
      ]
    },
    {
      "cell_type": "code",
      "source": [
        "2 >= 5"
      ],
      "metadata": {
        "colab": {
          "base_uri": "https://localhost:8080/"
        },
        "id": "WO-VXX3GrOIh",
        "outputId": "18983f96-27e7-474f-f68a-2d8c0fa4a630"
      },
      "execution_count": 39,
      "outputs": [
        {
          "output_type": "execute_result",
          "data": {
            "text/plain": [
              "False"
            ]
          },
          "metadata": {},
          "execution_count": 39
        }
      ]
    },
    {
      "cell_type": "code",
      "source": [
        "2 <=1  # check if left side value less than equalas to right side value"
      ],
      "metadata": {
        "colab": {
          "base_uri": "https://localhost:8080/"
        },
        "id": "URAg_81xrQbb",
        "outputId": "dc01c0e8-a6c2-4b8a-a69b-f74535d0a37d"
      },
      "execution_count": 40,
      "outputs": [
        {
          "output_type": "execute_result",
          "data": {
            "text/plain": [
              "False"
            ]
          },
          "metadata": {},
          "execution_count": 40
        }
      ]
    },
    {
      "cell_type": "code",
      "source": [
        "2 <=7"
      ],
      "metadata": {
        "colab": {
          "base_uri": "https://localhost:8080/"
        },
        "id": "J_b-SCecrTF4",
        "outputId": "4b4b38e7-a22f-4682-f5d6-615dd912925f"
      },
      "execution_count": 41,
      "outputs": [
        {
          "output_type": "execute_result",
          "data": {
            "text/plain": [
              "True"
            ]
          },
          "metadata": {},
          "execution_count": 41
        }
      ]
    },
    {
      "cell_type": "markdown",
      "source": [
        "## 6. How do you tell the difference between the equal to and assignment operators?Describe a condition and when you would use one."
      ],
      "metadata": {
        "id": "NifqBGd6eXy0"
      }
    },
    {
      "cell_type": "markdown",
      "source": [
        "equal operator is used to compare two values where as assignment operator is used to assign a value to a variable.\n"
      ],
      "metadata": {
        "id": "LzIeV1WprWRq"
      }
    },
    {
      "cell_type": "code",
      "source": [
        "'garima' == 'garima' ## here we have used equals to operator to compare two strigns\n"
      ],
      "metadata": {
        "colab": {
          "base_uri": "https://localhost:8080/"
        },
        "id": "57hY2x8DrF-B",
        "outputId": "7691de3e-9e9a-43ef-c11a-96f232c055e5"
      },
      "execution_count": 43,
      "outputs": [
        {
          "output_type": "execute_result",
          "data": {
            "text/plain": [
              "True"
            ]
          },
          "metadata": {},
          "execution_count": 43
        }
      ]
    },
    {
      "cell_type": "code",
      "source": [
        "'garima' == 'gari'"
      ],
      "metadata": {
        "colab": {
          "base_uri": "https://localhost:8080/"
        },
        "id": "2nSvXk7ArCdI",
        "outputId": "fb4aed4a-4df0-4c0d-d5b7-10b1a26995d7"
      },
      "execution_count": 44,
      "outputs": [
        {
          "output_type": "execute_result",
          "data": {
            "text/plain": [
              "False"
            ]
          },
          "metadata": {},
          "execution_count": 44
        }
      ]
    },
    {
      "cell_type": "code",
      "source": [
        "a = 5 # here we used assignment operator to assign 5 to variable a. now 5 is stored in variable a, if we print value of a, it should print 5"
      ],
      "metadata": {
        "id": "l9LQzuiAq1WY"
      },
      "execution_count": 45,
      "outputs": []
    },
    {
      "cell_type": "code",
      "source": [
        "print(a)"
      ],
      "metadata": {
        "colab": {
          "base_uri": "https://localhost:8080/"
        },
        "id": "mZSkc8zBqo7i",
        "outputId": "d60397ca-833f-4b73-e694-ec77a4451e24"
      },
      "execution_count": 46,
      "outputs": [
        {
          "output_type": "stream",
          "name": "stdout",
          "text": [
            "5\n"
          ]
        }
      ]
    },
    {
      "cell_type": "markdown",
      "source": [
        "## 7. Identify the three blocks in this code:\n",
        "\n",
        "spam = 0\n",
        "\n",
        "if spam == 10:\n",
        "\n",
        "print('eggs')\n",
        "\n",
        "if spam > 5:\n",
        "\n",
        "print('bacon')\n",
        "\n",
        "else:\n",
        "\n",
        "print('ham')\n",
        "\n",
        "print('spam')\n",
        "\n",
        "print('spam')\n"
      ],
      "metadata": {
        "id": "LbPcl4sAeagE"
      }
    },
    {
      "cell_type": "markdown",
      "source": [
        "if we rewrite this code with correct sntax usign proper indentation, we can clearly see three block (**commented in below code**)"
      ],
      "metadata": {
        "id": "6seaD9n1s9nX"
      }
    },
    {
      "cell_type": "code",
      "source": [
        "spam = 0\n",
        "\n",
        "if spam == 10:  # block 1\n",
        "\n",
        "  print('eggs')\n",
        "\n",
        "if spam > 5: # block 2\n",
        "\n",
        "  print('bacon')\n",
        "\n",
        "else: # block 3\n",
        "\n",
        "  print('ham')\n",
        "\n",
        "  print('spam')\n",
        "\n",
        "  print('spam')"
      ],
      "metadata": {
        "colab": {
          "base_uri": "https://localhost:8080/"
        },
        "id": "vNbEqFsStEyf",
        "outputId": "3cafa80f-11d7-4e24-fa2f-b30fbefb32a6"
      },
      "execution_count": 48,
      "outputs": [
        {
          "output_type": "stream",
          "name": "stdout",
          "text": [
            "ham\n",
            "spam\n",
            "spam\n"
          ]
        }
      ]
    },
    {
      "cell_type": "markdown",
      "source": [
        "## 8. Write code that prints Hello if 1 is stored in spam, prints Howdy if 2 is stored in spam, and prints Greetings! if anything else is stored in spam."
      ],
      "metadata": {
        "id": "Y5kV1yIOenOk"
      }
    },
    {
      "cell_type": "code",
      "source": [
        "spam = int(input(\"enter the value of spam: \"))\n",
        "\n",
        "if spam == 1:\n",
        "  print(\"Hello\")\n",
        "elif spam == 2:\n",
        "  print(\"Howdy\")\n",
        "else:\n",
        "  print(\"Greetings!\")"
      ],
      "metadata": {
        "colab": {
          "base_uri": "https://localhost:8080/"
        },
        "id": "il-Fw9gjta-n",
        "outputId": "98cd57a6-0496-45c2-af33-ce6a248423e7"
      },
      "execution_count": 50,
      "outputs": [
        {
          "output_type": "stream",
          "name": "stdout",
          "text": [
            "enter the value of spam: 1\n",
            "Hello\n"
          ]
        }
      ]
    },
    {
      "cell_type": "code",
      "source": [
        "spam = int(input(\"enter the value of spam: \"))\n",
        "\n",
        "if spam == 1:\n",
        "  print(\"Hello\")\n",
        "elif spam == 2:\n",
        "  print(\"Howdy\")\n",
        "else:\n",
        "  print(\"Greetings!\")"
      ],
      "metadata": {
        "colab": {
          "base_uri": "https://localhost:8080/"
        },
        "id": "Lpuw5qcTtti-",
        "outputId": "b393ca1d-b7db-4f09-90d1-1a630c5950e4"
      },
      "execution_count": 51,
      "outputs": [
        {
          "output_type": "stream",
          "name": "stdout",
          "text": [
            "enter the value of spam: 2\n",
            "Howdy\n"
          ]
        }
      ]
    },
    {
      "cell_type": "code",
      "source": [
        "spam = int(input(\"enter the value of spam: \"))\n",
        "\n",
        "if spam == 1:\n",
        "  print(\"Hello\")\n",
        "elif spam == 2:\n",
        "  print(\"Howdy\")\n",
        "else:\n",
        "  print(\"Greetings!\")"
      ],
      "metadata": {
        "colab": {
          "base_uri": "https://localhost:8080/"
        },
        "id": "eSHevkH1tveu",
        "outputId": "53460ae2-205a-4e98-e79c-0cb86c518619"
      },
      "execution_count": 52,
      "outputs": [
        {
          "output_type": "stream",
          "name": "stdout",
          "text": [
            "enter the value of spam: 6\n",
            "Greetings!\n"
          ]
        }
      ]
    },
    {
      "cell_type": "markdown",
      "source": [
        "## 9. If your programme is stuck in an endless loop, what keys you’ll press?"
      ],
      "metadata": {
        "id": "d7dxBka2erVU"
      }
    },
    {
      "cell_type": "markdown",
      "source": [
        "**ctrl + C**"
      ],
      "metadata": {
        "id": "rDk-J2yct6RO"
      }
    },
    {
      "cell_type": "markdown",
      "source": [
        "## 10 How can you tell the difference between break and continue?"
      ],
      "metadata": {
        "id": "WYNXI08yevuk"
      }
    },
    {
      "cell_type": "markdown",
      "source": [
        "**break**: BreaK terminates the code execution and comes out of the loop"
      ],
      "metadata": {
        "id": "tMkm0CsHt-zF"
      }
    },
    {
      "cell_type": "code",
      "source": [
        "l = [1,2,3,4,5,6]\n",
        "\n",
        "for i in l:\n",
        "  if i == 4:\n",
        "    break  ## this program will print 1,2,3 and terminate as we have condition if the value of i is 4, then stop the execution usimg break statment\n",
        "  print(i)"
      ],
      "metadata": {
        "colab": {
          "base_uri": "https://localhost:8080/"
        },
        "id": "FUS0cGUQuHlF",
        "outputId": "ebb333ee-bfc6-4aff-8a75-a30c9d1cc8d1"
      },
      "execution_count": 56,
      "outputs": [
        {
          "output_type": "stream",
          "name": "stdout",
          "text": [
            "1\n",
            "2\n",
            "3\n"
          ]
        }
      ]
    },
    {
      "cell_type": "markdown",
      "source": [
        "**continue**: this is used to skip the current iteration in a program and continue next iteration"
      ],
      "metadata": {
        "id": "IfWA9PDWugJO"
      }
    },
    {
      "cell_type": "code",
      "source": [
        "l = [1,2,3,4,5,6]\n",
        "\n",
        "for i in l:\n",
        "  if i == 4:\n",
        "    continue   # when i reached 4, then program will skip this iteration, so output will be 1,2,3,5,6\n",
        "  print(i)"
      ],
      "metadata": {
        "colab": {
          "base_uri": "https://localhost:8080/"
        },
        "id": "RlkfG6houvcm",
        "outputId": "5b2c3eab-9fa1-470a-9177-42fe9562099c"
      },
      "execution_count": 55,
      "outputs": [
        {
          "output_type": "stream",
          "name": "stdout",
          "text": [
            "1\n",
            "2\n",
            "3\n",
            "5\n",
            "6\n"
          ]
        }
      ]
    },
    {
      "cell_type": "markdown",
      "source": [
        "## 11.In a for loop, what is the difference between range(10), range(0, 10), and range(0, 10, 1)?"
      ],
      "metadata": {
        "id": "NuQczSl_ey1F"
      }
    },
    {
      "cell_type": "markdown",
      "source": [
        "**range(10)** will print values from 0 to 9\n",
        "\n",
        "**rangge(0,10)** will also print 0 to 9\n",
        "\n",
        "**range(0,10,1)** will print values from 0 to 9"
      ],
      "metadata": {
        "id": "dHNVKu_2vgVU"
      }
    },
    {
      "cell_type": "code",
      "source": [
        "for i in range(10):\n",
        "  print(i)"
      ],
      "metadata": {
        "colab": {
          "base_uri": "https://localhost:8080/"
        },
        "id": "74veluCCv5ac",
        "outputId": "f9f04071-78cc-4a9e-bad3-2e2a097689a2"
      },
      "execution_count": 59,
      "outputs": [
        {
          "output_type": "stream",
          "name": "stdout",
          "text": [
            "0\n",
            "1\n",
            "2\n",
            "3\n",
            "4\n",
            "5\n",
            "6\n",
            "7\n",
            "8\n",
            "9\n"
          ]
        }
      ]
    },
    {
      "cell_type": "code",
      "source": [
        "for i in range(0,10):\n",
        "  print(i)"
      ],
      "metadata": {
        "colab": {
          "base_uri": "https://localhost:8080/"
        },
        "id": "o_gOWbMHwBDt",
        "outputId": "35f8a18b-03af-419b-e901-67f08ecc1a2d"
      },
      "execution_count": 60,
      "outputs": [
        {
          "output_type": "stream",
          "name": "stdout",
          "text": [
            "0\n",
            "1\n",
            "2\n",
            "3\n",
            "4\n",
            "5\n",
            "6\n",
            "7\n",
            "8\n",
            "9\n"
          ]
        }
      ]
    },
    {
      "cell_type": "code",
      "source": [
        "for i in range(0,10,1):\n",
        "  print(i)"
      ],
      "metadata": {
        "colab": {
          "base_uri": "https://localhost:8080/"
        },
        "id": "_euCkbb0wEG0",
        "outputId": "c3fbb691-e88c-4cf6-b559-8feb93bb4920"
      },
      "execution_count": 61,
      "outputs": [
        {
          "output_type": "stream",
          "name": "stdout",
          "text": [
            "0\n",
            "1\n",
            "2\n",
            "3\n",
            "4\n",
            "5\n",
            "6\n",
            "7\n",
            "8\n",
            "9\n"
          ]
        }
      ]
    },
    {
      "cell_type": "markdown",
      "source": [
        "## 12. Write a short program that prints the numbers 1 to 10 using a for loop. Then write an equivalent program that prints the numbers 1 to 10 using a while loop."
      ],
      "metadata": {
        "id": "aj8qP_L9e1Bd"
      }
    },
    {
      "cell_type": "code",
      "source": [
        "## using for loop\n",
        "\n",
        "for i in range(1,11):\n",
        "  print(i)"
      ],
      "metadata": {
        "colab": {
          "base_uri": "https://localhost:8080/"
        },
        "id": "iguqMApHwDd2",
        "outputId": "8e15e1aa-5287-4f69-86b3-69805c87bd1f"
      },
      "execution_count": 62,
      "outputs": [
        {
          "output_type": "stream",
          "name": "stdout",
          "text": [
            "1\n",
            "2\n",
            "3\n",
            "4\n",
            "5\n",
            "6\n",
            "7\n",
            "8\n",
            "9\n",
            "10\n"
          ]
        }
      ]
    },
    {
      "cell_type": "code",
      "source": [
        "## using while,loop\n",
        "\n",
        "i = 1\n",
        "while i <=10:\n",
        "  print(i)\n",
        "  i = i + 1"
      ],
      "metadata": {
        "colab": {
          "base_uri": "https://localhost:8080/"
        },
        "id": "G0M_Srn6wUfE",
        "outputId": "bbde7477-bc95-43a6-acca-3ae4cfd64a22"
      },
      "execution_count": 63,
      "outputs": [
        {
          "output_type": "stream",
          "name": "stdout",
          "text": [
            "1\n",
            "2\n",
            "3\n",
            "4\n",
            "5\n",
            "6\n",
            "7\n",
            "8\n",
            "9\n",
            "10\n"
          ]
        }
      ]
    },
    {
      "cell_type": "markdown",
      "source": [
        "## 13. If you had a function named bacon() inside a module named spam, how would you call it after importing spam?\n",
        "\n"
      ],
      "metadata": {
        "id": "v0miBx4Je289"
      }
    },
    {
      "cell_type": "markdown",
      "source": [
        "import spam\n",
        "\n",
        "b = spam.bacon()"
      ],
      "metadata": {
        "id": "P2iOVh4JwgRU"
      }
    },
    {
      "cell_type": "code",
      "source": [],
      "metadata": {
        "id": "M7bsRPY1eHCV"
      },
      "execution_count": null,
      "outputs": []
    },
    {
      "cell_type": "markdown",
      "source": [],
      "metadata": {
        "id": "5cgkePuneHpl"
      }
    }
  ]
}