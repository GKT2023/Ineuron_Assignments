{
  "cells": [
    {
      "cell_type": "markdown",
      "metadata": {
        "id": "Mv7R8G51eUwH"
      },
      "source": [
        "**1. What is the primary goal of Object-Oriented Programming (OOP)?**"
      ]
    },
    {
      "cell_type": "markdown",
      "metadata": {
        "id": "CTDyMo6oYDjo"
      },
      "source": [
        "OOPS helps in creating a code which is reusable, easy to understand, and convinient. oops is based on class-object architecture.\n",
        "\n",
        "where class is a blueprint of creating an object and object can be created using class only and represent real world entity.\n",
        "\n",
        "OOPS include for concepts:\n",
        "Inheritance : process where child class can inherit all properties and methods from parent class.\n",
        "\n",
        "polymorphism: it is the ability of an object to take multiple forms.\n",
        "it can also be defined as a function with same name but different signature/definition.\n",
        "\n",
        "abstraction: abstraction is hiding unnecessary details from the user.\n",
        "\n",
        "encapsulation: encapsulation is hiding implementation details from the user and showing only information which is required for external interaction.\n",
        "for ex: we don't know how car is made and how steering works, but we know how to use it."
      ]
    },
    {
      "cell_type": "markdown",
      "metadata": {
        "id": "STbLBwJkeYrG"
      },
      "source": [
        "**`2. What is an object in Python?`**"
      ]
    },
    {
      "cell_type": "markdown",
      "metadata": {
        "id": "HeWh1wPDABGY"
      },
      "source": [
        "An object is created from a class and show the real life behaviour. it is a real world entity."
      ]
    },
    {
      "cell_type": "markdown",
      "metadata": {
        "id": "bPYcXTtJeaje"
      },
      "source": [
        "3. What is a class in Python?"
      ]
    },
    {
      "cell_type": "markdown",
      "metadata": {
        "id": "QJYVqctPAS7r"
      },
      "source": [
        "class is a blueprint from which an object is created. it is a generalised way of creating an object. let's say you have a class car which  have some general properties. and an object is bmw which inherits properties from car class and customise these properties as per the requirement"
      ]
    },
    {
      "cell_type": "markdown",
      "metadata": {
        "id": "4k3P9yP0efwe"
      },
      "source": [
        "4. What are attributes and methods in a class?"
      ]
    },
    {
      "cell_type": "markdown",
      "metadata": {
        "id": "93HO55A60bHh"
      },
      "source": [
        "**Method**: methods are block of code which performs certain actions, these are also called functions.\n",
        "\n",
        "method can also take optional parameters in paranthesis.\n",
        "method is defined using def keyword.\n",
        "we can only use method by calling it on object.\n",
        "\n",
        "for ex. a method is getSalary() can only called when it is needed and using objects.\n",
        "\n",
        "**Attributes**: attributes are the properties of an object. these are declared outside the method or function.  attribute which are  shared/common between n no of object of a class are called class attributes.\n",
        "Instance attributes are specific to the object."
      ]
    },
    {
      "cell_type": "markdown",
      "metadata": {
        "id": "CVw4jrhlehpB"
      },
      "source": [
        "5. What is the difference between class variables and instance variables in Python?"
      ]
    },
    {
      "cell_type": "markdown",
      "metadata": {
        "id": "EYZ2ldHjAskc"
      },
      "source": [
        "**Class Variable**  class variables are accessible to every method of a class. these are declared as a global variable which can be access by any method present in a class. also, its value is changed globally for all methods.\n",
        "\n",
        "**Instance variable** instance variables are the variable which are specific for the object and its scope is not global."
      ]
    },
    {
      "cell_type": "markdown",
      "metadata": {
        "id": "q9xvXJU5ekBy"
      },
      "source": [
        "6. What is the purpose of the self parameter in Python class methods?"
      ]
    },
    {
      "cell_type": "markdown",
      "metadata": {
        "id": "N7xOg5pMBWjs"
      },
      "source": [
        "self parameter is used to refer the object. with the help of self keyword only we can access attributes and method on an object."
      ]
    },
    {
      "cell_type": "markdown",
      "metadata": {
        "id": "bD0rdQAhemLg"
      },
      "source": [
        "7. For a library management system, you have to design the \"Book\" class with OOP principles in mind. The “Book” class will have following attributes:\n",
        "\n",
        "a. title: Represents the title of the book.\n",
        "\n",
        "b. author: Represents the author(s) of the book.\n",
        "\n",
        "c. isbn: Represents the ISBN (International Standard Book Number) of the book.\n",
        "\n",
        "d. publication_year: Represents the year of publication of the book.\n",
        "\n",
        "e. available_copies: Represents the number of copies available for checkout.\n",
        "\n",
        "The class will also include the following methods:\n",
        "\n",
        "a. check_out(self): Decrements the available copies by one if there are copies\n",
        "available for checkout.\n",
        "\n",
        "b. return_book(self): Increments the available copies by one when a book is\n",
        "returned.\n",
        "\n",
        "c. display_book_info(self): Displays the information about the book, including its\n",
        "attributes and the number of available copies."
      ]
    },
    {
      "cell_type": "code",
      "execution_count": 33,
      "metadata": {
        "id": "-fKV6tvBemeo"
      },
      "outputs": [],
      "source": [
        "class Library:\n",
        "  def __init__(self,title,author,isbn,publication_year,available_copies):\n",
        "    self.title = title\n",
        "    self.author  = author\n",
        "    self.isbn = isbn\n",
        "    self.publication_year = publication_year\n",
        "    self.available_copies = available_copies\n",
        "\n",
        "  # check_out function will decrements the available copies by one if there are copies available for checkout.\n",
        "  def check_out(self):\n",
        "    if self.available_copies > 0:\n",
        "      self.available_copies -= 1\n",
        "      return f\"no of available copies after checking out: {self.available_copies}\"\n",
        "\n",
        "  # return_book function will increments the available copies by one when a book is returned.\n",
        "  def return_book(self):\n",
        "    self.available_copies += 1\n",
        "    return f\"no of copies after a book is returned and added into library: {self.available_copies}\"\n",
        "\n",
        "  # display_book_info function will  displays the information about the book, including its attributes and the number of available copies.\n",
        "  def display_book_info(self):\n",
        "    print(f\"title: {self.title}\\nisbn: {self.isbn}\\nauthor: {self.author}\\navailable_copies:{self.available_copies}\\npublication year: {self.publication_year}\")\n"
      ]
    },
    {
      "cell_type": "code",
      "execution_count": 34,
      "metadata": {
        "id": "DspJRtW6e9Oh"
      },
      "outputs": [],
      "source": [
        "# creating an object from Library class\n",
        "lib1 = Library(\"Stocks\",\"Tom Harrison\", 12345, 2020,3)\n"
      ]
    },
    {
      "cell_type": "code",
      "execution_count": 35,
      "metadata": {
        "colab": {
          "base_uri": "https://localhost:8080/"
        },
        "id": "ASuA_jW1iAlX",
        "outputId": "94038b16-e331-4948-8a04-e2070ef2dee6"
      },
      "outputs": [
        {
          "name": "stdout",
          "output_type": "stream",
          "text": [
            "title: Stocks\n",
            "isbn: 12345\n",
            "author: Tom Harrison\n",
            "available_copies:3\n",
            "publication year: 2020\n"
          ]
        }
      ],
      "source": [
        "# initial info about book\n",
        "lib1.display_book_info()"
      ]
    },
    {
      "cell_type": "code",
      "execution_count": 36,
      "metadata": {
        "colab": {
          "base_uri": "https://localhost:8080/",
          "height": 36
        },
        "id": "coUiv-F6gsZt",
        "outputId": "ba3feea3-c45c-4bb1-84a4-40d1a23f63ee"
      },
      "outputs": [
        {
          "data": {
            "text/plain": [
              "'no of available copies after checking out: 2'"
            ]
          },
          "execution_count": 36,
          "metadata": {},
          "output_type": "execute_result"
        }
      ],
      "source": [
        "# calling check_out function on object, this will return updated no of copies\n",
        "lib1.check_out()"
      ]
    },
    {
      "cell_type": "code",
      "execution_count": 37,
      "metadata": {
        "colab": {
          "base_uri": "https://localhost:8080/"
        },
        "id": "Dw-fzu3pg4DP",
        "outputId": "612087df-0be5-4c5c-b92e-1a4d31cbb39e"
      },
      "outputs": [
        {
          "name": "stdout",
          "output_type": "stream",
          "text": [
            "title: Stocks\n",
            "isbn: 12345\n",
            "author: Tom Harrison\n",
            "available_copies:2\n",
            "publication year: 2020\n"
          ]
        }
      ],
      "source": [
        "# check book info now after check_out\n",
        "lib1.display_book_info()"
      ]
    },
    {
      "cell_type": "code",
      "execution_count": 38,
      "metadata": {
        "colab": {
          "base_uri": "https://localhost:8080/",
          "height": 36
        },
        "id": "WMojp-Uthpud",
        "outputId": "2f588eca-2eb9-48bc-ac45-10e456e32142"
      },
      "outputs": [
        {
          "data": {
            "text/plain": [
              "'no of copies after a book is returned and added into library: 3'"
            ]
          },
          "execution_count": 38,
          "metadata": {},
          "output_type": "execute_result"
        }
      ],
      "source": [
        "# call return book function and get updated no of copies\n",
        "lib1.return_book()"
      ]
    },
    {
      "cell_type": "code",
      "execution_count": 39,
      "metadata": {
        "colab": {
          "base_uri": "https://localhost:8080/"
        },
        "id": "C66C5JA0h6YS",
        "outputId": "38166e6b-f8ec-467d-a733-2292bf4291e8"
      },
      "outputs": [
        {
          "data": {
            "text/plain": [
              "3"
            ]
          },
          "execution_count": 39,
          "metadata": {},
          "output_type": "execute_result"
        }
      ],
      "source": [
        "# updated no of books\n",
        "lib1.available_copies"
      ]
    },
    {
      "cell_type": "code",
      "execution_count": null,
      "metadata": {
        "id": "i5AvDrubh8qE"
      },
      "outputs": [],
      "source": []
    },
    {
      "cell_type": "markdown",
      "metadata": {
        "id": "HRAUFAxxi3WA"
      },
      "source": [
        "8. For a ticket booking system, you have to design the \"Ticket\" class with OOP principles in mind. The “Ticket” class should have the following attributes:\n",
        "\n",
        "a. ticket_id: Represents the unique identifier for the ticket.\n",
        "\n",
        "b. event_name: Represents the name of the event.\n",
        "\n",
        "c. event_date: Represents the date of the event.\n",
        "\n",
        "d. venue: Represents the venue of the event.\n",
        "\n",
        "e. seat_number: Represents the seat number associated with the ticket.\n",
        "\n",
        "f. price: Represents the price of the ticket.\n",
        "\n",
        "g. is_reserved: Represents the reservation status of the ticket.\n",
        "\n",
        "The class also includes the following methods:\n",
        "\n",
        "a. reserve_ticket(self): Marks the ticket as reserved if it is not already reserved.\n",
        "\n",
        "b. cancel_reservation(self): Cancels the reservation of the ticket if it is already\n",
        "reserved.\n",
        "\n",
        "c. display_ticket_info(self): Displays the information about the ticket, including its\n",
        "attributes and reservation status."
      ]
    },
    {
      "cell_type": "code",
      "execution_count": 40,
      "metadata": {
        "id": "mOeJWU1Oi-nx"
      },
      "outputs": [],
      "source": [
        "class Ticket:\n",
        "  def __init__(self,ticket_id, event_name, event_date, venue, seat_number, price, is_reserved):\n",
        "    self.ticket_id = ticket_id\n",
        "    self.event_name = event_name\n",
        "    self.event_date = event_date\n",
        "    self.venue = venue\n",
        "    self.price = price\n",
        "    self.is_reserved = is_reserved\n",
        "\n",
        "  def reserve_ticket(self):\n",
        "    ## this function will marks the ticket as reserved if it is not already reserved.\n",
        "    if self.is_reserved.lower() == \"not reserved\":\n",
        "      self.is_reserved = \"reserved\"\n",
        "    else:\n",
        "      self.is_reserved\n",
        "\n",
        "    return self.is_reserved\n",
        "\n",
        "  def cancel_reservation(self):\n",
        "    # Cancels the reservation of the ticket if it is already reserved.\n",
        "    if self.is_reserved.lower() == \"reserved\":\n",
        "      self.is_reserved = \"not reserved\"\n",
        "    else:\n",
        "      self.is_reserved\n",
        "\n",
        "    return self.is_reserved\n",
        "\n",
        "  def display_ticket_info(self):\n",
        "    # Displays the information about the ticket, including its attributes and reservation status.\n",
        "    print(f\"ticket id: {self.ticket_id}\\nevent name: {self.event_name}\\neven_date: {self.event_date}\\nvenue: {self.venue}\\nprice: {self.price}\\nis_reserved: {self.is_reserved}\")"
      ]
    },
    {
      "cell_type": "code",
      "execution_count": 41,
      "metadata": {
        "id": "s1Pfm8kcjM6T"
      },
      "outputs": [],
      "source": [
        "# creating an object with not reserved status\n",
        "t = Ticket(121,\"Marriage\",\"23/10/2023\",\"Pune\",\"B2-39\",2500,\"NOT Reserved\")"
      ]
    },
    {
      "cell_type": "code",
      "execution_count": 42,
      "metadata": {
        "colab": {
          "base_uri": "https://localhost:8080/"
        },
        "id": "nH3KtCmGlhbv",
        "outputId": "ee1c3061-1652-4ce7-9f4e-7a554bf7b31e"
      },
      "outputs": [
        {
          "name": "stdout",
          "output_type": "stream",
          "text": [
            "ticket id: 121\n",
            "event name: Marriage\n",
            "even_date: 23/10/2023\n",
            "venue: Pune\n",
            "price: 2500\n",
            "is_reserved: NOT Reserved\n"
          ]
        }
      ],
      "source": [
        "# display intial ticket info\n",
        "t.display_ticket_info()"
      ]
    },
    {
      "cell_type": "code",
      "execution_count": 43,
      "metadata": {
        "colab": {
          "base_uri": "https://localhost:8080/",
          "height": 36
        },
        "id": "DtISiqUAlmVN",
        "outputId": "de684ae4-afd1-4bcf-e01a-54631d9e67a0"
      },
      "outputs": [
        {
          "data": {
            "text/plain": [
              "'reserved'"
            ]
          },
          "execution_count": 43,
          "metadata": {},
          "output_type": "execute_result"
        }
      ],
      "source": [
        "# reservation status afer reserve ticket function\n",
        "t.reserve_ticket()"
      ]
    },
    {
      "cell_type": "code",
      "execution_count": 44,
      "metadata": {
        "colab": {
          "base_uri": "https://localhost:8080/"
        },
        "id": "YYZFk_7Wls5w",
        "outputId": "4f09195f-33a8-4acb-8613-fa85dd7d04b5"
      },
      "outputs": [
        {
          "name": "stdout",
          "output_type": "stream",
          "text": [
            "ticket id: 121\n",
            "event name: Marriage\n",
            "even_date: 23/10/2023\n",
            "venue: Pune\n",
            "price: 2500\n",
            "is_reserved: reserved\n"
          ]
        }
      ],
      "source": [
        "# display ticket info after ticket is reserved\n",
        "t.display_ticket_info()"
      ]
    },
    {
      "cell_type": "code",
      "execution_count": 45,
      "metadata": {
        "colab": {
          "base_uri": "https://localhost:8080/",
          "height": 36
        },
        "id": "3GJKk8-wl2Cz",
        "outputId": "e5f55b67-31d1-4d8c-db0b-c42ffead5883"
      },
      "outputs": [
        {
          "data": {
            "text/plain": [
              "'not reserved'"
            ]
          },
          "execution_count": 45,
          "metadata": {},
          "output_type": "execute_result"
        }
      ],
      "source": [
        "# cancel_reservation if ticket is reserved\n",
        "t.cancel_reservation()"
      ]
    },
    {
      "cell_type": "code",
      "execution_count": 46,
      "metadata": {
        "colab": {
          "base_uri": "https://localhost:8080/"
        },
        "id": "XHnwLbU0m2o2",
        "outputId": "ba30e936-a8f8-4734-b015-329cff5abd17"
      },
      "outputs": [
        {
          "name": "stdout",
          "output_type": "stream",
          "text": [
            "ticket id: 121\n",
            "event name: Marriage\n",
            "even_date: 23/10/2023\n",
            "venue: Pune\n",
            "price: 2500\n",
            "is_reserved: not reserved\n"
          ]
        }
      ],
      "source": [
        "# final ticket info\n",
        "\n",
        "t.display_ticket_info()"
      ]
    },
    {
      "cell_type": "code",
      "execution_count": 47,
      "metadata": {
        "id": "Sa_4239pm4-h"
      },
      "outputs": [],
      "source": [
        "# creating an object with reserved status\n",
        "t1 = Ticket(121,\"Marriage\",\"23/10/2023\",\"Pune\",\"B2-39\",2500,\"Reserved\")"
      ]
    },
    {
      "cell_type": "code",
      "execution_count": 48,
      "metadata": {
        "colab": {
          "base_uri": "https://localhost:8080/"
        },
        "id": "Q66pkC8lnW4L",
        "outputId": "0580b0fe-424d-4ede-8438-8f5351637282"
      },
      "outputs": [
        {
          "name": "stdout",
          "output_type": "stream",
          "text": [
            "ticket id: 121\n",
            "event name: Marriage\n",
            "even_date: 23/10/2023\n",
            "venue: Pune\n",
            "price: 2500\n",
            "is_reserved: Reserved\n"
          ]
        }
      ],
      "source": [
        "t1.display_ticket_info()"
      ]
    },
    {
      "cell_type": "code",
      "execution_count": 49,
      "metadata": {
        "colab": {
          "base_uri": "https://localhost:8080/",
          "height": 36
        },
        "id": "rslKITfWnaj_",
        "outputId": "c60905e7-6451-4263-bb77-a6a0c609700d"
      },
      "outputs": [
        {
          "data": {
            "text/plain": [
              "'not reserved'"
            ]
          },
          "execution_count": 49,
          "metadata": {},
          "output_type": "execute_result"
        }
      ],
      "source": [
        "# cancel the reservation\n",
        "t1.cancel_reservation()"
      ]
    },
    {
      "cell_type": "code",
      "execution_count": 50,
      "metadata": {
        "colab": {
          "base_uri": "https://localhost:8080/"
        },
        "id": "1_3RwD9NndPo",
        "outputId": "c1423c09-ecb0-4497-a878-225c259f6678"
      },
      "outputs": [
        {
          "name": "stdout",
          "output_type": "stream",
          "text": [
            "ticket id: 121\n",
            "event name: Marriage\n",
            "even_date: 23/10/2023\n",
            "venue: Pune\n",
            "price: 2500\n",
            "is_reserved: not reserved\n"
          ]
        }
      ],
      "source": [
        "# display info after cancel the reservation\n",
        "t1.display_ticket_info()"
      ]
    },
    {
      "cell_type": "code",
      "execution_count": 51,
      "metadata": {
        "colab": {
          "base_uri": "https://localhost:8080/",
          "height": 36
        },
        "id": "iBYFx9JUnfCl",
        "outputId": "7c94bd8b-1ee8-47de-cf23-a6ab110900cc"
      },
      "outputs": [
        {
          "data": {
            "text/plain": [
              "'reserved'"
            ]
          },
          "execution_count": 51,
          "metadata": {},
          "output_type": "execute_result"
        }
      ],
      "source": [
        "# reserve the ticket\n",
        "t1.reserve_ticket()"
      ]
    },
    {
      "cell_type": "code",
      "execution_count": 52,
      "metadata": {
        "colab": {
          "base_uri": "https://localhost:8080/"
        },
        "id": "iOD7w8bEnjCc",
        "outputId": "cccb8a47-0e7a-4bfd-e17a-4a957bd3365a"
      },
      "outputs": [
        {
          "name": "stdout",
          "output_type": "stream",
          "text": [
            "ticket id: 121\n",
            "event name: Marriage\n",
            "even_date: 23/10/2023\n",
            "venue: Pune\n",
            "price: 2500\n",
            "is_reserved: reserved\n"
          ]
        }
      ],
      "source": [
        "t1.display_ticket_info()"
      ]
    },
    {
      "cell_type": "code",
      "execution_count": null,
      "metadata": {
        "id": "IWDVzzg1nzAm"
      },
      "outputs": [],
      "source": []
    },
    {
      "cell_type": "markdown",
      "metadata": {
        "id": "nrNR4IiNn2_w"
      },
      "source": [
        "9. You are creating a shopping cart for an e-commerce website. Using OOP to model the \"ShoppingCart\" functionality\n",
        "\n",
        "the class should contain following attributes and methods:\n",
        "\n",
        "a. items: Represents the list of items in the shopping cart.\n",
        "The class also includes the following methods:\n",
        "\n",
        "a. add_item(self, item): Adds an item to the shopping cart by appending it to the list of items.\n",
        "\n",
        "b. remove_item(self, item): Removes an item from the shopping cart if it exists in the list.\n",
        "\n",
        "c. view_cart(self): Displays the items currently present in the shopping cart.\n",
        "\n",
        "d. clear_cart(self): Clears all items from the shopping cart by reassigning an empty list to the items attribute."
      ]
    },
    {
      "cell_type": "code",
      "execution_count": 53,
      "metadata": {
        "id": "OmAUkojtn6mh"
      },
      "outputs": [],
      "source": [
        "class ShoppingCart:\n",
        "  def __init__(self,items):\n",
        "    self.items = items\n",
        "\n",
        "  def add_item(self, item):\n",
        "    ## Adds an item to the shopping cart by appending it to the list of items.\n",
        "    self.items.append(item)\n",
        "    return f\"updated list after adding items to the list: {self.items}\"\n",
        "\n",
        "  def remove_item(self, item):\n",
        "    ## Removes an item from the shopping cart if it exists in the list.\n",
        "    self.items.remove(item)\n",
        "    return f\"list after removing items: {self.items}\"\n",
        "\n",
        "  def view_cart(self):\n",
        "    ## Displays the items currently present in the shopping cart.\n",
        "    return f\"cart contains following items: {self.items}\"\n",
        "\n",
        "  def clear_cart(self):\n",
        "    ## Clears all items from the shopping cart by reassigning an empty list to the items attribute.\n",
        "    self.items = []\n",
        "    return f\"your list is clear now: {self.items}\""
      ]
    },
    {
      "cell_type": "code",
      "execution_count": 54,
      "metadata": {
        "id": "JKE6QeL7oPmO"
      },
      "outputs": [],
      "source": [
        "s = ShoppingCart([\"apple\",\"mango\",\"facewash\",\"potato\",\"tomato\"])"
      ]
    },
    {
      "cell_type": "code",
      "execution_count": 55,
      "metadata": {
        "colab": {
          "base_uri": "https://localhost:8080/",
          "height": 36
        },
        "id": "GVDA1KrjpwFU",
        "outputId": "6b5fa4ed-90d3-4b76-b80d-a3fa6e5c7d77"
      },
      "outputs": [
        {
          "data": {
            "text/plain": [
              "\"updated list after adding items to the list: ['apple', 'mango', 'facewash', 'potato', 'tomato', 'Detergent']\""
            ]
          },
          "execution_count": 55,
          "metadata": {},
          "output_type": "execute_result"
        }
      ],
      "source": [
        "# adding an item to cart\n",
        "s.add_item(\"Detergent\")"
      ]
    },
    {
      "cell_type": "code",
      "execution_count": 56,
      "metadata": {
        "colab": {
          "base_uri": "https://localhost:8080/",
          "height": 36
        },
        "id": "_vlsRyjDp0H0",
        "outputId": "53286894-7a0e-4ec3-a282-727f05d4d55f"
      },
      "outputs": [
        {
          "data": {
            "text/plain": [
              "\"cart contains following items: ['apple', 'mango', 'facewash', 'potato', 'tomato', 'Detergent']\""
            ]
          },
          "execution_count": 56,
          "metadata": {},
          "output_type": "execute_result"
        }
      ],
      "source": [
        "# display cart\n",
        "s.view_cart()"
      ]
    },
    {
      "cell_type": "code",
      "execution_count": 57,
      "metadata": {
        "colab": {
          "base_uri": "https://localhost:8080/",
          "height": 36
        },
        "id": "swIead1T554D",
        "outputId": "65bcd212-c3e4-49f2-87a8-42833e59222c"
      },
      "outputs": [
        {
          "data": {
            "text/plain": [
              "\"list after removing items: ['apple', 'mango', 'potato', 'tomato', 'Detergent']\""
            ]
          },
          "execution_count": 57,
          "metadata": {},
          "output_type": "execute_result"
        }
      ],
      "source": [
        "# removing an item from cart\n",
        "s.remove_item(\"facewash\")"
      ]
    },
    {
      "cell_type": "code",
      "execution_count": 58,
      "metadata": {
        "colab": {
          "base_uri": "https://localhost:8080/",
          "height": 36
        },
        "id": "x-7117kj58p7",
        "outputId": "e9880719-9446-476f-f7ee-a478d4c0ce43"
      },
      "outputs": [
        {
          "data": {
            "text/plain": [
              "\"cart contains following items: ['apple', 'mango', 'potato', 'tomato', 'Detergent']\""
            ]
          },
          "execution_count": 58,
          "metadata": {},
          "output_type": "execute_result"
        }
      ],
      "source": [
        "s.view_cart()"
      ]
    },
    {
      "cell_type": "code",
      "execution_count": 59,
      "metadata": {
        "colab": {
          "base_uri": "https://localhost:8080/",
          "height": 36
        },
        "id": "nTE3McEF5-Ub",
        "outputId": "ac9f58c1-a02b-451a-8200-991ab21e2e21"
      },
      "outputs": [
        {
          "data": {
            "text/plain": [
              "'your list is clear now: []'"
            ]
          },
          "execution_count": 59,
          "metadata": {},
          "output_type": "execute_result"
        }
      ],
      "source": [
        "# clear cart\n",
        "s.clear_cart()"
      ]
    },
    {
      "cell_type": "code",
      "execution_count": null,
      "metadata": {
        "id": "VoRyEo8Q6Bhe"
      },
      "outputs": [],
      "source": []
    },
    {
      "cell_type": "markdown",
      "metadata": {
        "id": "0pKEXxYU6SIX"
      },
      "source": [
        "Imagine a school management system. You have to design the \"Student\" class using OOP concepts.\n",
        "\n",
        "The “Student” class has the following attributes:\n",
        "\n",
        "a. name: Represents the name of the student.\n",
        "\n",
        "b. age: Represents the age of the student.\n",
        "\n",
        "c. grade: Represents the grade or class of the student.\n",
        "\n",
        "d. student_id: Represents the unique identifier for the student.\n",
        "\n",
        "e. attendance: Represents the attendance record of the student.\n",
        "\n",
        "The class should also include the following methods:\n",
        "\n",
        "a. update_attendance(self, date, status): Updates the attendance record of the student for a given date with the provided status (e.g., present or absent).\n",
        "\n",
        "b. get_attendance(self): Returns the attendance record of the student.\n",
        "\n",
        "c. get_average_attendance(self): Calculates and returns the average\n",
        "attendance percentage of the student based on their attendance record."
      ]
    },
    {
      "cell_type": "code",
      "execution_count": 28,
      "metadata": {
        "id": "Z0GuXkxk7JIR"
      },
      "outputs": [],
      "source": [
        "class School:\n",
        "  def __init__(self,name, age, grade, student_id, attendance):\n",
        "    self.name = name\n",
        "    self.age = age\n",
        "    self.grade = grade\n",
        "    self.student_id = student_id\n",
        "    self.attendance = attendance\n",
        "\n",
        "  def update_attendance(self, date, status):\n",
        "    ## Updates the attendance record of the student for a given date with the provided status (e.g., present or absent).\n",
        "    self.attendance.append([date,status])\n",
        "    return self.attendance\n",
        "\n",
        "  def get_attendance (self):\n",
        "    # Returns the attendance record of the student.\n",
        "    return self.attendance\n",
        "\n",
        "  def get_average_attendance(self):\n",
        "    # Calculates and returns the average attendance percentage of the student based on their attendance record.\n",
        "    total = len(self.attendance)\n",
        "    present = 0\n",
        "    for record in self.attendance:  # traverse through individual record in nested list\n",
        "      for p in range(len(record)): # iterate through each record i.e. list inside list\n",
        "        if record[1].lower() == 'present':  # if record one of nested list is present then increment the value of present by 1.\n",
        "          # print(record[1])\n",
        "          present += 1\n",
        "          break\n",
        "    avg = (present / total) * 100   # calculatre average\n",
        "    return avg"
      ]
    },
    {
      "cell_type": "code",
      "execution_count": 29,
      "metadata": {
        "id": "Y2DA0i1t7f1R"
      },
      "outputs": [],
      "source": [
        "s = School(\"Garima\",26,\"ME\",121,[[\"20/12/2023\", \"Present\"],[\"12/12/2023\",\"Absent\"],[\"4/01/2023\",\"Present\"],['3/04/2021', 'present'] ])"
      ]
    },
    {
      "cell_type": "code",
      "execution_count": 30,
      "metadata": {
        "colab": {
          "base_uri": "https://localhost:8080/"
        },
        "id": "NKBMMelE8qHL",
        "outputId": "fa5dd482-0781-4067-de50-136460e2991c"
      },
      "outputs": [
        {
          "data": {
            "text/plain": [
              "[['20/12/2023', 'Present'],\n",
              " ['12/12/2023', 'Absent'],\n",
              " ['4/01/2023', 'Present'],\n",
              " ['3/04/2021', 'present']]"
            ]
          },
          "execution_count": 30,
          "metadata": {},
          "output_type": "execute_result"
        }
      ],
      "source": [
        "## call get_attendance() to see attendance\n",
        "s.get_attendance()"
      ]
    },
    {
      "cell_type": "code",
      "execution_count": 31,
      "metadata": {
        "colab": {
          "base_uri": "https://localhost:8080/"
        },
        "id": "9ta409n89a9f",
        "outputId": "722c2d54-4ab4-4cef-b67e-f7605c4654e9"
      },
      "outputs": [
        {
          "data": {
            "text/plain": [
              "[['20/12/2023', 'Present'],\n",
              " ['12/12/2023', 'Absent'],\n",
              " ['4/01/2023', 'Present'],\n",
              " ['3/04/2021', 'present'],\n",
              " ['12/12/2022', 'absent']]"
            ]
          },
          "execution_count": 31,
          "metadata": {},
          "output_type": "execute_result"
        }
      ],
      "source": [
        "## add attendance record\n",
        "s.update_attendance(\"12/12/2022\",\"absent\")"
      ]
    },
    {
      "cell_type": "code",
      "execution_count": 32,
      "metadata": {
        "colab": {
          "base_uri": "https://localhost:8080/"
        },
        "id": "uHGe_3r69g6_",
        "outputId": "85e9ffff-6582-4fd4-dc36-93acf026bf85"
      },
      "outputs": [
        {
          "data": {
            "text/plain": [
              "60.0"
            ]
          },
          "execution_count": 32,
          "metadata": {},
          "output_type": "execute_result"
        }
      ],
      "source": [
        "## calculate avvg of attenance\n",
        "s.get_average_attendance()"
      ]
    },
    {
      "cell_type": "code",
      "execution_count": null,
      "metadata": {
        "id": "SPR6LRiD-cRd"
      },
      "outputs": [],
      "source": []
    }
  ],
  "metadata": {
    "colab": {
      "provenance": []
    },
    "kernelspec": {
      "display_name": "Python 3",
      "name": "python3"
    },
    "language_info": {
      "codemirror_mode": {
        "name": "ipython",
        "version": 3
      },
      "file_extension": ".py",
      "mimetype": "text/x-python",
      "name": "python",
      "nbconvert_exporter": "python",
      "pygments_lexer": "ipython3",
      "version": "3.11.4"
    }
  },
  "nbformat": 4,
  "nbformat_minor": 0
}
