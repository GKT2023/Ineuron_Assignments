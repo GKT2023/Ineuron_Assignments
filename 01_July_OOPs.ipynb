{
  "nbformat": 4,
  "nbformat_minor": 0,
  "metadata": {
    "colab": {
      "provenance": []
    },
    "kernelspec": {
      "name": "python3",
      "display_name": "Python 3"
    },
    "language_info": {
      "name": "python"
    }
  },
  "cells": [
    {
      "cell_type": "markdown",
      "source": [
        "1. What is the primary goal of Object-Oriented Programming (OOP)?"
      ],
      "metadata": {
        "id": "Mv7R8G51eUwH"
      }
    },
    {
      "cell_type": "markdown",
      "source": [
        "OOPS helps in creating a code which is reusable, easy to understand, and convinient\n"
      ],
      "metadata": {
        "id": "CTDyMo6oYDjo"
      }
    },
    {
      "cell_type": "markdown",
      "source": [
        "2. What is an object in Python?"
      ],
      "metadata": {
        "id": "STbLBwJkeYrG"
      }
    },
    {
      "cell_type": "markdown",
      "source": [
        "An object is created from a class and show the real life behaviour. it is a real world entity."
      ],
      "metadata": {
        "id": "HeWh1wPDABGY"
      }
    },
    {
      "cell_type": "markdown",
      "source": [
        "3. What is a class in Python?\n",
        "\n"
      ],
      "metadata": {
        "id": "bPYcXTtJeaje"
      }
    },
    {
      "cell_type": "markdown",
      "source": [
        "class is a blueprint from which an object is created. it is a generalised way of creating an object. let's say you have a class car which  have some general properties. and an object is bmw which inherits properties from car class and customise these properties as per the requirement"
      ],
      "metadata": {
        "id": "QJYVqctPAS7r"
      }
    },
    {
      "cell_type": "markdown",
      "source": [
        "4. What are attributes and methods in a class?"
      ],
      "metadata": {
        "id": "4k3P9yP0efwe"
      }
    },
    {
      "cell_type": "code",
      "source": [],
      "metadata": {
        "id": "TrIOkKDEebqT"
      },
      "execution_count": null,
      "outputs": []
    },
    {
      "cell_type": "markdown",
      "source": [
        "5. What is the difference between class variables and instance variables in Python?"
      ],
      "metadata": {
        "id": "CVw4jrhlehpB"
      }
    },
    {
      "cell_type": "code",
      "source": [],
      "metadata": {
        "id": "6lJVKjXdAtRA"
      },
      "execution_count": null,
      "outputs": []
    },
    {
      "cell_type": "markdown",
      "source": [
        "**Class Variable**  class variables are accessible to every method of a class. these are declared as a global variable which can be access by any method present in a class. also, its value is changed globally for all methods.\n",
        "\n",
        "**Instance variable** instance variables are the variable which are specific for the object and its scope is not global."
      ],
      "metadata": {
        "id": "EYZ2ldHjAskc"
      }
    },
    {
      "cell_type": "code",
      "source": [],
      "metadata": {
        "id": "XKzZ3W_Aehzx"
      },
      "execution_count": null,
      "outputs": []
    },
    {
      "cell_type": "markdown",
      "source": [
        "6. What is the purpose of the self parameter in Python class methods?"
      ],
      "metadata": {
        "id": "q9xvXJU5ekBy"
      }
    },
    {
      "cell_type": "markdown",
      "source": [
        "self parameter is used to refer the object. whenever an object is created and to use its properites we need self keyword."
      ],
      "metadata": {
        "id": "N7xOg5pMBWjs"
      }
    },
    {
      "cell_type": "code",
      "source": [],
      "metadata": {
        "id": "ukFZG-C8ekMz"
      },
      "execution_count": null,
      "outputs": []
    },
    {
      "cell_type": "markdown",
      "source": [
        "7. For a library management system, you have to design the \"Book\" class with OOP principles in mind. The “Book” class will have following attributes:\n",
        "\n",
        "a. title: Represents the title of the book.\n",
        "\n",
        "b. author: Represents the author(s) of the book.\n",
        "\n",
        "c. isbn: Represents the ISBN (International Standard Book Number) of the book.\n",
        "\n",
        "d. publication_year: Represents the year of publication of the book.\n",
        "\n",
        "e. available_copies: Represents the number of copies available for checkout.\n",
        "\n",
        "The class will also include the following methods:\n",
        "\n",
        "a. check_out(self): Decrements the available copies by one if there are copies\n",
        "available for checkout.\n",
        "\n",
        "b. return_book(self): Increments the available copies by one when a book is\n",
        "returned.\n",
        "\n",
        "c. display_book_info(self): Displays the information about the book, including its\n",
        "attributes and the number of available copies."
      ],
      "metadata": {
        "id": "bD0rdQAhemLg"
      }
    },
    {
      "cell_type": "code",
      "source": [
        "class Library:\n",
        "  def __init__(self,title,author,isbn,publication_year,available_copies):\n",
        "    self.title = title\n",
        "    self.author  = author\n",
        "    self.isbn = isbn\n",
        "    self.publication_year = publication_year\n",
        "    self.available_copies = available_copies\n",
        "\n",
        "  # check_out function will decrements the available copies by one if there are copies available for checkout.\n",
        "  def check_out(self):\n",
        "    if self.available_copies > 0:\n",
        "      self.available_copies -= 1\n",
        "      return f\"no of available copies after checking out: {self.available_copies}\"\n",
        "\n",
        "  # return_book function will increments the available copies by one when a book is returned.\n",
        "  def return_book(self):\n",
        "    self.available_copies += 1\n",
        "    return f\"no of copies after a book is returned and added into library: {self.available_copies}\"\n",
        "\n",
        "  # display_book_info function will  displays the information about the book, including its attributes and the number of available copies.\n",
        "  def display_book_info(self):\n",
        "    print(f\"title: {self.title}\\nisbn: {self.isbn}\\nauthor: {self.author}\\navailable_copies:{self.available_copies}\\npublication year: {self.publication_year}\")\n"
      ],
      "metadata": {
        "id": "-fKV6tvBemeo"
      },
      "execution_count": 43,
      "outputs": []
    },
    {
      "cell_type": "code",
      "source": [
        "# creating an object from Library class\n",
        "lib1 = Library(\"Stocks\",\"Tom Harrison\", 12345, 2020,3)\n"
      ],
      "metadata": {
        "id": "DspJRtW6e9Oh"
      },
      "execution_count": 44,
      "outputs": []
    },
    {
      "cell_type": "code",
      "source": [
        "# initial info about book\n",
        "lib1.display_book_info()"
      ],
      "metadata": {
        "colab": {
          "base_uri": "https://localhost:8080/"
        },
        "id": "ASuA_jW1iAlX",
        "outputId": "94038b16-e331-4948-8a04-e2070ef2dee6"
      },
      "execution_count": 45,
      "outputs": [
        {
          "output_type": "stream",
          "name": "stdout",
          "text": [
            "title: Stocks\n",
            "isbn: 12345\n",
            "author: Tom Harrison\n",
            "available_copies:3\n",
            "publication year: 2020\n"
          ]
        }
      ]
    },
    {
      "cell_type": "code",
      "source": [
        "# calling check_out function on object, this will return updated no of copies\n",
        "lib1.check_out()"
      ],
      "metadata": {
        "colab": {
          "base_uri": "https://localhost:8080/",
          "height": 36
        },
        "id": "coUiv-F6gsZt",
        "outputId": "ba3feea3-c45c-4bb1-84a4-40d1a23f63ee"
      },
      "execution_count": 46,
      "outputs": [
        {
          "output_type": "execute_result",
          "data": {
            "text/plain": [
              "'no of available copies after checking out: 2'"
            ],
            "application/vnd.google.colaboratory.intrinsic+json": {
              "type": "string"
            }
          },
          "metadata": {},
          "execution_count": 46
        }
      ]
    },
    {
      "cell_type": "code",
      "source": [
        "# check book info now after check_out\n",
        "lib1.display_book_info()"
      ],
      "metadata": {
        "colab": {
          "base_uri": "https://localhost:8080/"
        },
        "id": "Dw-fzu3pg4DP",
        "outputId": "612087df-0be5-4c5c-b92e-1a4d31cbb39e"
      },
      "execution_count": 48,
      "outputs": [
        {
          "output_type": "stream",
          "name": "stdout",
          "text": [
            "title: Stocks\n",
            "isbn: 12345\n",
            "author: Tom Harrison\n",
            "available_copies:2\n",
            "publication year: 2020\n"
          ]
        }
      ]
    },
    {
      "cell_type": "code",
      "source": [
        "# call return book function and get updated no of copies\n",
        "lib1.return_book()"
      ],
      "metadata": {
        "colab": {
          "base_uri": "https://localhost:8080/",
          "height": 36
        },
        "id": "WMojp-Uthpud",
        "outputId": "2f588eca-2eb9-48bc-ac45-10e456e32142"
      },
      "execution_count": 49,
      "outputs": [
        {
          "output_type": "execute_result",
          "data": {
            "text/plain": [
              "'no of copies after a book is returned and added into library: 3'"
            ],
            "application/vnd.google.colaboratory.intrinsic+json": {
              "type": "string"
            }
          },
          "metadata": {},
          "execution_count": 49
        }
      ]
    },
    {
      "cell_type": "code",
      "source": [
        "# updated no of books\n",
        "lib1.available_copies"
      ],
      "metadata": {
        "colab": {
          "base_uri": "https://localhost:8080/"
        },
        "id": "C66C5JA0h6YS",
        "outputId": "38166e6b-f8ec-467d-a733-2292bf4291e8"
      },
      "execution_count": 51,
      "outputs": [
        {
          "output_type": "execute_result",
          "data": {
            "text/plain": [
              "3"
            ]
          },
          "metadata": {},
          "execution_count": 51
        }
      ]
    },
    {
      "cell_type": "code",
      "source": [],
      "metadata": {
        "id": "i5AvDrubh8qE"
      },
      "execution_count": null,
      "outputs": []
    },
    {
      "cell_type": "markdown",
      "source": [
        "8. For a ticket booking system, you have to design the \"Ticket\" class with OOP principles in mind. The “Ticket” class should have the following attributes:\n",
        "\n",
        "a. ticket_id: Represents the unique identifier for the ticket.\n",
        "\n",
        "b. event_name: Represents the name of the event.\n",
        "\n",
        "c. event_date: Represents the date of the event.\n",
        "\n",
        "d. venue: Represents the venue of the event.\n",
        "\n",
        "e. seat_number: Represents the seat number associated with the ticket.\n",
        "\n",
        "f. price: Represents the price of the ticket.\n",
        "\n",
        "g. is_reserved: Represents the reservation status of the ticket.\n",
        "\n",
        "The class also includes the following methods:\n",
        "\n",
        "a. reserve_ticket(self): Marks the ticket as reserved if it is not already reserved.\n",
        "\n",
        "b. cancel_reservation(self): Cancels the reservation of the ticket if it is already\n",
        "reserved.\n",
        "\n",
        "c. display_ticket_info(self): Displays the information about the ticket, including its\n",
        "attributes and reservation status."
      ],
      "metadata": {
        "id": "HRAUFAxxi3WA"
      }
    },
    {
      "cell_type": "code",
      "source": [
        "class Ticket:\n",
        "  def __init__(self,ticket_id, event_name, event_date, venue, seat_number, price, is_reserved):\n",
        "    self.ticket_id = ticket_id\n",
        "    self.event_name = event_name\n",
        "    self.event_date = event_date\n",
        "    self.venue = venue\n",
        "    self.price = price\n",
        "    self.is_reserved = is_reserved\n",
        "\n",
        "  def reserve_ticket(self):\n",
        "    ## this function will marks the ticket as reserved if it is not already reserved.\n",
        "    if self.is_reserved.lower() == \"not reserved\":\n",
        "      self.is_reserved = \"reserved\"\n",
        "    else:\n",
        "      self.is_reserved\n",
        "\n",
        "    return self.is_reserved\n",
        "\n",
        "  def cancel_reservation(self):\n",
        "    # Cancels the reservation of the ticket if it is already reserved.\n",
        "    if self.is_reserved.lower() == \"reserved\":\n",
        "      self.is_reserved = \"not reserved\"\n",
        "    else:\n",
        "      self.is_reserved\n",
        "\n",
        "    return self.is_reserved\n",
        "\n",
        "  def display_ticket_info(self):\n",
        "    # Displays the information about the ticket, including its attributes and reservation status.\n",
        "    print(f\"ticket id: {self.ticket_id}\\nevent name: {self.event_name}\\neven_date: {self.event_date}\\nvenue: {self.venue}\\nprice: {self.price}\\nis_reserved: {self.is_reserved}\")"
      ],
      "metadata": {
        "id": "mOeJWU1Oi-nx"
      },
      "execution_count": 70,
      "outputs": []
    },
    {
      "cell_type": "code",
      "source": [
        "# creating an object with not reserved status\n",
        "t = Ticket(121,\"Marriage\",\"23/10/2023\",\"Pune\",\"B2-39\",2500,\"NOT Reserved\")"
      ],
      "metadata": {
        "id": "s1Pfm8kcjM6T"
      },
      "execution_count": 82,
      "outputs": []
    },
    {
      "cell_type": "code",
      "source": [
        "# display intial ticket info\n",
        "t.display_ticket_info()"
      ],
      "metadata": {
        "colab": {
          "base_uri": "https://localhost:8080/"
        },
        "id": "nH3KtCmGlhbv",
        "outputId": "ee1c3061-1652-4ce7-9f4e-7a554bf7b31e"
      },
      "execution_count": 83,
      "outputs": [
        {
          "output_type": "stream",
          "name": "stdout",
          "text": [
            "ticket id: 121\n",
            "event name: Marriage\n",
            "even_date: 23/10/2023\n",
            "venue: Pune\n",
            "price: 2500\n",
            "is_reserved: NOT Reserved\n"
          ]
        }
      ]
    },
    {
      "cell_type": "code",
      "source": [
        "# reservation status afer reserve ticket function\n",
        "t.reserve_ticket()"
      ],
      "metadata": {
        "colab": {
          "base_uri": "https://localhost:8080/",
          "height": 36
        },
        "id": "DtISiqUAlmVN",
        "outputId": "de684ae4-afd1-4bcf-e01a-54631d9e67a0"
      },
      "execution_count": 84,
      "outputs": [
        {
          "output_type": "execute_result",
          "data": {
            "text/plain": [
              "'reserved'"
            ],
            "application/vnd.google.colaboratory.intrinsic+json": {
              "type": "string"
            }
          },
          "metadata": {},
          "execution_count": 84
        }
      ]
    },
    {
      "cell_type": "code",
      "source": [
        "# display ticket info after ticket is reserved\n",
        "t.display_ticket_info()"
      ],
      "metadata": {
        "colab": {
          "base_uri": "https://localhost:8080/"
        },
        "id": "YYZFk_7Wls5w",
        "outputId": "4f09195f-33a8-4acb-8613-fa85dd7d04b5"
      },
      "execution_count": 85,
      "outputs": [
        {
          "output_type": "stream",
          "name": "stdout",
          "text": [
            "ticket id: 121\n",
            "event name: Marriage\n",
            "even_date: 23/10/2023\n",
            "venue: Pune\n",
            "price: 2500\n",
            "is_reserved: reserved\n"
          ]
        }
      ]
    },
    {
      "cell_type": "code",
      "source": [
        "# cancel_reservation if ticket is reserved\n",
        "t.cancel_reservation()"
      ],
      "metadata": {
        "colab": {
          "base_uri": "https://localhost:8080/",
          "height": 36
        },
        "id": "3GJKk8-wl2Cz",
        "outputId": "e5f55b67-31d1-4d8c-db0b-c42ffead5883"
      },
      "execution_count": 86,
      "outputs": [
        {
          "output_type": "execute_result",
          "data": {
            "text/plain": [
              "'not reserved'"
            ],
            "application/vnd.google.colaboratory.intrinsic+json": {
              "type": "string"
            }
          },
          "metadata": {},
          "execution_count": 86
        }
      ]
    },
    {
      "cell_type": "code",
      "source": [
        "# final ticket info\n",
        "\n",
        "t.display_ticket_info()"
      ],
      "metadata": {
        "colab": {
          "base_uri": "https://localhost:8080/"
        },
        "id": "XHnwLbU0m2o2",
        "outputId": "ba30e936-a8f8-4734-b015-329cff5abd17"
      },
      "execution_count": 87,
      "outputs": [
        {
          "output_type": "stream",
          "name": "stdout",
          "text": [
            "ticket id: 121\n",
            "event name: Marriage\n",
            "even_date: 23/10/2023\n",
            "venue: Pune\n",
            "price: 2500\n",
            "is_reserved: not reserved\n"
          ]
        }
      ]
    },
    {
      "cell_type": "code",
      "source": [
        "# creating an object with reserved status\n",
        "t1 = Ticket(121,\"Marriage\",\"23/10/2023\",\"Pune\",\"B2-39\",2500,\"Reserved\")"
      ],
      "metadata": {
        "id": "Sa_4239pm4-h"
      },
      "execution_count": 88,
      "outputs": []
    },
    {
      "cell_type": "code",
      "source": [
        "t1.display_ticket_info()"
      ],
      "metadata": {
        "colab": {
          "base_uri": "https://localhost:8080/"
        },
        "id": "Q66pkC8lnW4L",
        "outputId": "0580b0fe-424d-4ede-8438-8f5351637282"
      },
      "execution_count": 89,
      "outputs": [
        {
          "output_type": "stream",
          "name": "stdout",
          "text": [
            "ticket id: 121\n",
            "event name: Marriage\n",
            "even_date: 23/10/2023\n",
            "venue: Pune\n",
            "price: 2500\n",
            "is_reserved: Reserved\n"
          ]
        }
      ]
    },
    {
      "cell_type": "code",
      "source": [
        "# cancel the reservation\n",
        "t1.cancel_reservation()"
      ],
      "metadata": {
        "colab": {
          "base_uri": "https://localhost:8080/",
          "height": 36
        },
        "id": "rslKITfWnaj_",
        "outputId": "c60905e7-6451-4263-bb77-a6a0c609700d"
      },
      "execution_count": 94,
      "outputs": [
        {
          "output_type": "execute_result",
          "data": {
            "text/plain": [
              "'not reserved'"
            ],
            "application/vnd.google.colaboratory.intrinsic+json": {
              "type": "string"
            }
          },
          "metadata": {},
          "execution_count": 94
        }
      ]
    },
    {
      "cell_type": "code",
      "source": [
        "# display info after cancel the reservation\n",
        "t1.display_ticket_info()"
      ],
      "metadata": {
        "colab": {
          "base_uri": "https://localhost:8080/"
        },
        "id": "1_3RwD9NndPo",
        "outputId": "c1423c09-ecb0-4497-a878-225c259f6678"
      },
      "execution_count": 95,
      "outputs": [
        {
          "output_type": "stream",
          "name": "stdout",
          "text": [
            "ticket id: 121\n",
            "event name: Marriage\n",
            "even_date: 23/10/2023\n",
            "venue: Pune\n",
            "price: 2500\n",
            "is_reserved: not reserved\n"
          ]
        }
      ]
    },
    {
      "cell_type": "code",
      "source": [
        "# reserve the ticket\n",
        "t1.reserve_ticket()"
      ],
      "metadata": {
        "colab": {
          "base_uri": "https://localhost:8080/",
          "height": 36
        },
        "id": "iBYFx9JUnfCl",
        "outputId": "7c94bd8b-1ee8-47de-cf23-a6ab110900cc"
      },
      "execution_count": 96,
      "outputs": [
        {
          "output_type": "execute_result",
          "data": {
            "text/plain": [
              "'reserved'"
            ],
            "application/vnd.google.colaboratory.intrinsic+json": {
              "type": "string"
            }
          },
          "metadata": {},
          "execution_count": 96
        }
      ]
    },
    {
      "cell_type": "code",
      "source": [
        "t1.display_ticket_info()"
      ],
      "metadata": {
        "colab": {
          "base_uri": "https://localhost:8080/"
        },
        "id": "iOD7w8bEnjCc",
        "outputId": "cccb8a47-0e7a-4bfd-e17a-4a957bd3365a"
      },
      "execution_count": 97,
      "outputs": [
        {
          "output_type": "stream",
          "name": "stdout",
          "text": [
            "ticket id: 121\n",
            "event name: Marriage\n",
            "even_date: 23/10/2023\n",
            "venue: Pune\n",
            "price: 2500\n",
            "is_reserved: reserved\n"
          ]
        }
      ]
    },
    {
      "cell_type": "code",
      "source": [],
      "metadata": {
        "id": "IWDVzzg1nzAm"
      },
      "execution_count": null,
      "outputs": []
    },
    {
      "cell_type": "markdown",
      "source": [
        "9. You are creating a shopping cart for an e-commerce website. Using OOP to model the \"ShoppingCart\" functionality\n",
        "\n",
        "the class should contain following attributes and methods:\n",
        "\n",
        "a. items: Represents the list of items in the shopping cart.\n",
        "The class also includes the following methods:\n",
        "\n",
        "a. add_item(self, item): Adds an item to the shopping cart by appending it to the list of items.\n",
        "\n",
        "b. remove_item(self, item): Removes an item from the shopping cart if it exists in the list.\n",
        "\n",
        "c. view_cart(self): Displays the items currently present in the shopping cart.\n",
        "\n",
        "d. clear_cart(self): Clears all items from the shopping cart by reassigning an empty list to the items attribute."
      ],
      "metadata": {
        "id": "nrNR4IiNn2_w"
      }
    },
    {
      "cell_type": "code",
      "source": [
        "class ShoppingCart:\n",
        "  def __init__(self,items):\n",
        "    self.items = items\n",
        "\n",
        "  def add_item(self, item):\n",
        "    ## Adds an item to the shopping cart by appending it to the list of items.\n",
        "    self.items.append(item)\n",
        "    return f\"updated list after adding items to the list: {self.items}\"\n",
        "\n",
        "  def remove_item(self, item):\n",
        "    ## Removes an item from the shopping cart if it exists in the list.\n",
        "    self.items.remove(item)\n",
        "    return f\"list after removing items: {self.items}\"\n",
        "\n",
        "  def view_cart(self):\n",
        "    ## Displays the items currently present in the shopping cart.\n",
        "    return f\"cart contains following items: {self.items}\"\n",
        "\n",
        "  def clear_cart(self):\n",
        "    ## Clears all items from the shopping cart by reassigning an empty list to the items attribute.\n",
        "    self.items = []\n",
        "    return f\"your list is clear now: {self.items}\""
      ],
      "metadata": {
        "id": "OmAUkojtn6mh"
      },
      "execution_count": 120,
      "outputs": []
    },
    {
      "cell_type": "code",
      "source": [
        "s = ShoppingCart([\"apple\",\"mango\",\"facewash\",\"potato\",\"tomato\"])"
      ],
      "metadata": {
        "id": "JKE6QeL7oPmO"
      },
      "execution_count": 121,
      "outputs": []
    },
    {
      "cell_type": "code",
      "source": [
        "# adding an item to cart\n",
        "s.add_item(\"Detergent\")"
      ],
      "metadata": {
        "colab": {
          "base_uri": "https://localhost:8080/",
          "height": 36
        },
        "id": "GVDA1KrjpwFU",
        "outputId": "6b5fa4ed-90d3-4b76-b80d-a3fa6e5c7d77"
      },
      "execution_count": 122,
      "outputs": [
        {
          "output_type": "execute_result",
          "data": {
            "text/plain": [
              "\"updated list after adding items to the list: ['apple', 'mango', 'facewash', 'potato', 'tomato', 'Detergent']\""
            ],
            "application/vnd.google.colaboratory.intrinsic+json": {
              "type": "string"
            }
          },
          "metadata": {},
          "execution_count": 122
        }
      ]
    },
    {
      "cell_type": "code",
      "source": [
        "# display cart\n",
        "s.view_cart()"
      ],
      "metadata": {
        "colab": {
          "base_uri": "https://localhost:8080/",
          "height": 36
        },
        "id": "_vlsRyjDp0H0",
        "outputId": "53286894-7a0e-4ec3-a282-727f05d4d55f"
      },
      "execution_count": 123,
      "outputs": [
        {
          "output_type": "execute_result",
          "data": {
            "text/plain": [
              "\"cart contains following items: ['apple', 'mango', 'facewash', 'potato', 'tomato', 'Detergent']\""
            ],
            "application/vnd.google.colaboratory.intrinsic+json": {
              "type": "string"
            }
          },
          "metadata": {},
          "execution_count": 123
        }
      ]
    },
    {
      "cell_type": "code",
      "source": [
        "# removing an item from cart\n",
        "s.remove_item(\"facewash\")"
      ],
      "metadata": {
        "colab": {
          "base_uri": "https://localhost:8080/",
          "height": 36
        },
        "id": "swIead1T554D",
        "outputId": "65bcd212-c3e4-49f2-87a8-42833e59222c"
      },
      "execution_count": 124,
      "outputs": [
        {
          "output_type": "execute_result",
          "data": {
            "text/plain": [
              "\"list after removing items: ['apple', 'mango', 'potato', 'tomato', 'Detergent']\""
            ],
            "application/vnd.google.colaboratory.intrinsic+json": {
              "type": "string"
            }
          },
          "metadata": {},
          "execution_count": 124
        }
      ]
    },
    {
      "cell_type": "code",
      "source": [
        "s.view_cart()"
      ],
      "metadata": {
        "colab": {
          "base_uri": "https://localhost:8080/",
          "height": 36
        },
        "id": "x-7117kj58p7",
        "outputId": "e9880719-9446-476f-f7ee-a478d4c0ce43"
      },
      "execution_count": 125,
      "outputs": [
        {
          "output_type": "execute_result",
          "data": {
            "text/plain": [
              "\"cart contains following items: ['apple', 'mango', 'potato', 'tomato', 'Detergent']\""
            ],
            "application/vnd.google.colaboratory.intrinsic+json": {
              "type": "string"
            }
          },
          "metadata": {},
          "execution_count": 125
        }
      ]
    },
    {
      "cell_type": "code",
      "source": [
        "# clear cart\n",
        "s.clear_cart()"
      ],
      "metadata": {
        "colab": {
          "base_uri": "https://localhost:8080/",
          "height": 36
        },
        "id": "nTE3McEF5-Ub",
        "outputId": "ac9f58c1-a02b-451a-8200-991ab21e2e21"
      },
      "execution_count": 126,
      "outputs": [
        {
          "output_type": "execute_result",
          "data": {
            "text/plain": [
              "'your list is clear now: []'"
            ],
            "application/vnd.google.colaboratory.intrinsic+json": {
              "type": "string"
            }
          },
          "metadata": {},
          "execution_count": 126
        }
      ]
    },
    {
      "cell_type": "code",
      "source": [],
      "metadata": {
        "id": "VoRyEo8Q6Bhe"
      },
      "execution_count": null,
      "outputs": []
    },
    {
      "cell_type": "markdown",
      "source": [
        "Imagine a school management system. You have to design the \"Student\" class using OOP concepts.\n",
        "\n",
        "The “Student” class has the following attributes:\n",
        "\n",
        "a. name: Represents the name of the student.\n",
        "\n",
        "b. age: Represents the age of the student.\n",
        "\n",
        "c. grade: Represents the grade or class of the student.\n",
        "\n",
        "d. student_id: Represents the unique identifier for the student.\n",
        "\n",
        "e. attendance: Represents the attendance record of the student.\n",
        "\n",
        "The class should also include the following methods:\n",
        "\n",
        "a. update_attendance(self, date, status): Updates the attendance record of the student for a given date with the provided status (e.g., present or absent).\n",
        "\n",
        "b. get_attendance(self): Returns the attendance record of the student.\n",
        "\n",
        "c. get_average_attendance(self): Calculates and returns the average\n",
        "attendance percentage of the student based on their attendance record."
      ],
      "metadata": {
        "id": "0pKEXxYU6SIX"
      }
    },
    {
      "cell_type": "code",
      "source": [
        "class School:\n",
        "  def __init__(self,name, age, grade, student_id, attendance):\n",
        "    self.name = name\n",
        "    self.age = age\n",
        "    self.grade = grade\n",
        "    self.student_id = student_id\n",
        "    self.attendance = attendance\n",
        "\n",
        "  def update_attendance(self, date, status):\n",
        "    ## Updates the attendance record of the student for a given date with the provided status (e.g., present or absent).\n",
        "    self.attendance.append([date,status])\n",
        "    return self.attendance\n",
        "\n",
        "  def get_attendance (self):\n",
        "    # Returns the attendance record of the student.\n",
        "    return self.attendance\n",
        "\n",
        "  def get_average_attendance(self):\n",
        "    # Calculates and returns the average attendance percentage of the student based on their attendance record.\n",
        "    total = len(self.attendance)\n",
        "    present = 0\n",
        "    for record in self.attendance:  # traverse through individual record in nested list\n",
        "      for p in range(len(record)): # iterate through each record i.e. list inside list\n",
        "        if record[1].lower() == 'present':  # if record one of nested list is present then increment the value of present by 1.\n",
        "          # print(record[1])\n",
        "          present += 1\n",
        "          break\n",
        "    avg = (present / total) * 100   # calculatre average\n",
        "    return avg"
      ],
      "metadata": {
        "id": "Z0GuXkxk7JIR"
      },
      "execution_count": 185,
      "outputs": []
    },
    {
      "cell_type": "code",
      "source": [
        "s = School(\"Garima\",26,\"ME\",121,[[\"20/12/2023\", \"Present\"],[\"12/12/2023\",\"Absent\"],[\"4/01/2023\",\"Present\"],['3/04/2021', 'present'] ])"
      ],
      "metadata": {
        "id": "Y2DA0i1t7f1R"
      },
      "execution_count": 186,
      "outputs": []
    },
    {
      "cell_type": "code",
      "source": [
        "## call get_attendance() to see attendance\n",
        "s.get_attendance()"
      ],
      "metadata": {
        "colab": {
          "base_uri": "https://localhost:8080/"
        },
        "id": "NKBMMelE8qHL",
        "outputId": "fa5dd482-0781-4067-de50-136460e2991c"
      },
      "execution_count": 182,
      "outputs": [
        {
          "output_type": "execute_result",
          "data": {
            "text/plain": [
              "[['20/12/2023', 'Present'],\n",
              " ['12/12/2023', 'Absent'],\n",
              " ['4/01/2023', 'Present'],\n",
              " ['3/04/2021', 'present']]"
            ]
          },
          "metadata": {},
          "execution_count": 182
        }
      ]
    },
    {
      "cell_type": "code",
      "source": [
        "## add attendance record\n",
        "s.update_attendance(\"12/12/2022\",\"absent\")"
      ],
      "metadata": {
        "colab": {
          "base_uri": "https://localhost:8080/"
        },
        "id": "9ta409n89a9f",
        "outputId": "722c2d54-4ab4-4cef-b67e-f7605c4654e9"
      },
      "execution_count": 188,
      "outputs": [
        {
          "output_type": "execute_result",
          "data": {
            "text/plain": [
              "[['20/12/2023', 'Present'],\n",
              " ['12/12/2023', 'Absent'],\n",
              " ['4/01/2023', 'Present'],\n",
              " ['3/04/2021', 'present'],\n",
              " ['12/12/2022', 'absent']]"
            ]
          },
          "metadata": {},
          "execution_count": 188
        }
      ]
    },
    {
      "cell_type": "code",
      "source": [
        "## calculate avvg of attenance\n",
        "s.get_average_attendance()"
      ],
      "metadata": {
        "colab": {
          "base_uri": "https://localhost:8080/"
        },
        "id": "uHGe_3r69g6_",
        "outputId": "85e9ffff-6582-4fd4-dc36-93acf026bf85"
      },
      "execution_count": 189,
      "outputs": [
        {
          "output_type": "execute_result",
          "data": {
            "text/plain": [
              "60.0"
            ]
          },
          "metadata": {},
          "execution_count": 189
        }
      ]
    },
    {
      "cell_type": "code",
      "source": [],
      "metadata": {
        "id": "SPR6LRiD-cRd"
      },
      "execution_count": 184,
      "outputs": []
    }
  ]
}