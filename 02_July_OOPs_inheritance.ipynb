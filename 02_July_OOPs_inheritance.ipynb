{
  "nbformat": 4,
  "nbformat_minor": 0,
  "metadata": {
    "colab": {
      "provenance": [],
      "authorship_tag": "ABX9TyPd790xHNUuvYZ1RA9ls1Ga",
      "include_colab_link": true
    },
    "kernelspec": {
      "name": "python3",
      "display_name": "Python 3"
    },
    "language_info": {
      "name": "python"
    }
  },
  "cells": [
    {
      "cell_type": "markdown",
      "metadata": {
        "id": "view-in-github",
        "colab_type": "text"
      },
      "source": [
        "<a href=\"https://colab.research.google.com/github/GKT2023/Ineuron_Assignments/blob/main/02_July_OOPs_inheritance.ipynb\" target=\"_parent\"><img src=\"https://colab.research.google.com/assets/colab-badge.svg\" alt=\"Open In Colab\"/></a>"
      ]
    },
    {
      "cell_type": "markdown",
      "source": [
        "**1. Explain what inheritance is in object-oriented programming and why it is used.**"
      ],
      "metadata": {
        "id": "TmOaBBva6gEY"
      }
    },
    {
      "cell_type": "markdown",
      "source": [
        "Inheritance is the property where a child class can access all the properties or methods of a parent class without declaring those methods and attributes again in a child class.\n",
        "\n",
        "Inheritance is very useful because child class need not to write the same method in itself. it can directly use from parent class.\n",
        "\n",
        "let's suppose there is a parent class which have a method eat(), child class also wants to use this method then it can directly call eat method on its instance.\n",
        "\n",
        "syntax of inheritance: class derived_class(parent_class)\n",
        "\n",
        "Ex: class Car(Vehicle)"
      ],
      "metadata": {
        "id": "RiEpreM26jAr"
      }
    },
    {
      "cell_type": "markdown",
      "source": [
        "**2. Discuss the concept of single inheritance and multiple inheritance, highlighting their\n",
        "differences and advantages.**"
      ],
      "metadata": {
        "id": "4X0IP-gU70-a"
      }
    },
    {
      "cell_type": "markdown",
      "source": [
        "**Single Inheritance:** in single inheritance there is only one parent and one child class. Meaning, child class can inherit properties and methods of only one parent class.\n",
        "\n",
        "Advantage of single inheritance is it is easy to understand and less confusion\n",
        "\n",
        "disadvantage is not as such. But as their is only one parent class to inherit from. if child class wants to get more functionality, it has to write more code in it.\n",
        "\n",
        "**Multiple Inheritance:** in multiple inheritance there are multiple parent class and only one child class. this single child class can inherit all properties and methods of all parent classes.\n",
        "\n",
        "Advantage of multiple inheritance is  a child class have access to methods of  more parent classes which makes child class robust with multiple functionalities and required less code to write.\n",
        "\n",
        "Disadvantage is it creates confusion which method is inherited from which parent class.\n"
      ],
      "metadata": {
        "id": "Kx43gvSc8APO"
      }
    },
    {
      "cell_type": "markdown",
      "source": [
        "**3.Explain the terms \"base class\" and \"derived class\" in the context of inheritance.**"
      ],
      "metadata": {
        "id": "keKT8TwS9YQp"
      }
    },
    {
      "cell_type": "markdown",
      "source": [
        "**Base Class:** base class is a class from which a child is created. base class can not have access to the method and properties of a child/derived class.\n",
        "\n",
        "**Derived Class:** derived class is inherited from parent class. and it can access all properties and method of a parent class along with its own method and properties."
      ],
      "metadata": {
        "id": "oVu4QUtD9cWC"
      }
    },
    {
      "cell_type": "markdown",
      "source": [
        "**4. What is the significance of the \"protected\" access modifier in inheritance? How does\n",
        "it differ from \"private\" and \"public\" modifiers?**"
      ],
      "metadata": {
        "id": "7l0NMSfT-DBT"
      }
    },
    {
      "cell_type": "markdown",
      "source": [
        "Protected access modifiers are the methods or attributes which can not be accessed outside of a class except its derived classes.where as public access modifiers can be accessed from anywhere.\n",
        "\n",
        "to declare a function or attribute as protected, we put _ before its name\n",
        "\n",
        "so if there are some attributed or methods which we don't want to be accessed from outside but only wants derived class to access them then we declared them as protected.\n",
        "\n",
        "private modifiers are only accessible to a class which  has created them.\n",
        "to declare a function or attribute as private, we put __ before its name.\n",
        "\n",
        "to use private and protected function or attributes we need to call them using public method."
      ],
      "metadata": {
        "id": "DTtgcsZ3-G2d"
      }
    },
    {
      "cell_type": "markdown",
      "source": [
        "**5. What is the purpose of the \"super\" keyword in inheritance? Provide an example.**"
      ],
      "metadata": {
        "id": "xwz7eAPI_gTW"
      }
    },
    {
      "cell_type": "markdown",
      "source": [
        "super keyword is used for accessing the properties of a parent class. with the help of it we can also call parent class constuctor"
      ],
      "metadata": {
        "id": "k0efSAvsCuHI"
      }
    },
    {
      "cell_type": "code",
      "source": [
        "class Person:\n",
        "  def __init__(self,name,age):\n",
        "    self.name = name\n",
        "    self.age = age\n",
        "\n",
        "  def get_info(self):\n",
        "    print(f\"name is : {self.name}\\nage is: {self.age}\")"
      ],
      "metadata": {
        "id": "2VFOrH-k-A7R"
      },
      "execution_count": 2,
      "outputs": []
    },
    {
      "cell_type": "code",
      "source": [
        "class Gender(Person):\n",
        "  def __init__(self,name,age,gender):\n",
        "    ## access name and age from parent class, by calling parent class constructor\n",
        "    super().__init__(name,age)\n",
        "    self.gender = gender\n",
        "\n",
        "  def get_info(self):\n",
        "    ## call parent class get_info to display info related to name and age\n",
        "    super().get_info()\n",
        "    ## add info of gender\n",
        "    print(f\"gender is: {self.gender}\")"
      ],
      "metadata": {
        "id": "lvxP8G1fEFGU"
      },
      "execution_count": 32,
      "outputs": []
    },
    {
      "cell_type": "code",
      "source": [
        "g = Gender(\"Tom\",20,\"Male\")"
      ],
      "metadata": {
        "id": "5tVdEIGHFkgT"
      },
      "execution_count": 33,
      "outputs": []
    },
    {
      "cell_type": "code",
      "source": [
        "g.get_info()"
      ],
      "metadata": {
        "colab": {
          "base_uri": "https://localhost:8080/"
        },
        "id": "j5U6PaI1FoLy",
        "outputId": "3f78e9e9-3933-4fb9-faaa-59fc3e91c006"
      },
      "execution_count": 34,
      "outputs": [
        {
          "output_type": "stream",
          "name": "stdout",
          "text": [
            "name is : Tom\n",
            "age is: 20\n",
            "gender is: Male\n"
          ]
        }
      ]
    },
    {
      "cell_type": "markdown",
      "source": [
        "**6. Create a base class called \"Vehicle\" with attributes like \"make\", \"model\", and \"year\".**\n",
        "\n",
        "**Then, create a derived class called \"Car\" that inherits from \"Vehicle\" and adds an attribute called \"fuel_type\". Implement appropriate methods in both classes.**"
      ],
      "metadata": {
        "id": "V9Hk68ogGWjt"
      }
    },
    {
      "cell_type": "code",
      "source": [
        "class Vehicle:\n",
        "  ## intializing constructor\n",
        "  def __init__(self, make, model, year):\n",
        "    self.model = model\n",
        "    self.make = make\n",
        "    self.year = year\n",
        "\n",
        "  def display_detail(self):\n",
        "    print(f\"make: {self.make}\\nmodel: {self.model}\\nyear:{self.year}\")"
      ],
      "metadata": {
        "id": "yMYEcRCRGNKz"
      },
      "execution_count": 35,
      "outputs": []
    },
    {
      "cell_type": "code",
      "source": [
        "class Car(Vehicle):\n",
        "\n",
        "  def get_color(self):\n",
        "    print(f\"color of a car is red\")"
      ],
      "metadata": {
        "id": "NsTg7_Q_G4jg"
      },
      "execution_count": 36,
      "outputs": []
    },
    {
      "cell_type": "code",
      "source": [
        "# creating object from car class\n",
        "c = Car(\"volkswagon\",\"polo\",2018)"
      ],
      "metadata": {
        "id": "iyuRZgGSHE5Z"
      },
      "execution_count": 38,
      "outputs": []
    },
    {
      "cell_type": "code",
      "source": [
        "## accessing Vehicle's class display_detial method using Car class object\n",
        "c.display_detail()"
      ],
      "metadata": {
        "colab": {
          "base_uri": "https://localhost:8080/"
        },
        "id": "u33pB_jbHGff",
        "outputId": "b2491514-2f2a-4378-b86d-65dc3f039d8c"
      },
      "execution_count": 41,
      "outputs": [
        {
          "output_type": "stream",
          "name": "stdout",
          "text": [
            "make: volkswagon\n",
            "model: polo\n",
            "year:2018\n"
          ]
        }
      ]
    },
    {
      "cell_type": "code",
      "source": [
        "# accessing car clss method\n",
        "\n",
        "c.get_color()"
      ],
      "metadata": {
        "colab": {
          "base_uri": "https://localhost:8080/"
        },
        "id": "1gTiQD0BHQq3",
        "outputId": "db912aa1-e40a-483a-f070-5bb4e74ac6ed"
      },
      "execution_count": 42,
      "outputs": [
        {
          "output_type": "stream",
          "name": "stdout",
          "text": [
            "color of a car is red\n"
          ]
        }
      ]
    },
    {
      "cell_type": "markdown",
      "source": [
        "**7. Create a base class called \"Employee\" with attributes like \"name\" and \"salary.\"**\n",
        "\n",
        "**Derive two classes, \"Manager\" and \"Developer,\" from \"Employee.\" Add an additional attribute called \"department\" for the \"Manager\" class and \"programming_language\" for the \"Developer\" class.**"
      ],
      "metadata": {
        "id": "9sue9VgNHp-Z"
      }
    },
    {
      "cell_type": "code",
      "source": [
        "class Employee:\n",
        "  def __init__(self,name,age):\n",
        "    self.name = name\n",
        "    self.age = age\n",
        ""
      ],
      "metadata": {
        "id": "gHulXuB8Hyvj"
      },
      "execution_count": 50,
      "outputs": []
    },
    {
      "cell_type": "code",
      "source": [
        "class Manager(Employee):\n",
        "  def __init__(self,name, age, department):\n",
        "    ## calling parent class constructor to use name and age variable\n",
        "    super().__init__(name, age)\n",
        "    self.department = department\n"
      ],
      "metadata": {
        "id": "NNXY63YKIAL0"
      },
      "execution_count": 51,
      "outputs": []
    },
    {
      "cell_type": "code",
      "source": [
        "class Developer(Employee):\n",
        "  def __init__(self,name, age, programming_language):\n",
        "    ## calling parent class constructor to use name and age variable\n",
        "    super().__init__(name, age)\n",
        "    self.programming_language = programming_language\n"
      ],
      "metadata": {
        "id": "6j3_ufiEIRTg"
      },
      "execution_count": 52,
      "outputs": []
    },
    {
      "cell_type": "code",
      "source": [
        "## creating object of manager class\n",
        "m = Manager(\"Harry\",40,\"Automation\")"
      ],
      "metadata": {
        "id": "mc2fXacyIdBs"
      },
      "execution_count": 53,
      "outputs": []
    },
    {
      "cell_type": "code",
      "source": [
        "## accessing employee class variables\n",
        "print(m.name, m.age)"
      ],
      "metadata": {
        "colab": {
          "base_uri": "https://localhost:8080/"
        },
        "id": "RUTiLH3IImgm",
        "outputId": "cd51f237-e958-4636-edee-0e5a16997ec9"
      },
      "execution_count": 55,
      "outputs": [
        {
          "output_type": "stream",
          "name": "stdout",
          "text": [
            "Harry 40\n"
          ]
        }
      ]
    },
    {
      "cell_type": "code",
      "source": [
        "## access manager class own variable department\n",
        "m.department"
      ],
      "metadata": {
        "colab": {
          "base_uri": "https://localhost:8080/",
          "height": 36
        },
        "id": "QYAvlEcbJBSq",
        "outputId": "d42deb47-9081-40a7-f8a4-e5207bc7ecf8"
      },
      "execution_count": 56,
      "outputs": [
        {
          "output_type": "execute_result",
          "data": {
            "text/plain": [
              "'Automation'"
            ],
            "application/vnd.google.colaboratory.intrinsic+json": {
              "type": "string"
            }
          },
          "metadata": {},
          "execution_count": 56
        }
      ]
    },
    {
      "cell_type": "code",
      "source": [
        "## creating developer class obj\n",
        "d  = Developer(\"Garima\", 30, \"Python\")"
      ],
      "metadata": {
        "id": "IzN9FiGOJJGw"
      },
      "execution_count": 57,
      "outputs": []
    },
    {
      "cell_type": "code",
      "source": [
        "## accessing employee class variables\n",
        "print(d.name, d.age)"
      ],
      "metadata": {
        "colab": {
          "base_uri": "https://localhost:8080/"
        },
        "id": "pRh1bRreJPlP",
        "outputId": "28544dcd-b339-41ef-fbd2-120f2d1f6e45"
      },
      "execution_count": 58,
      "outputs": [
        {
          "output_type": "stream",
          "name": "stdout",
          "text": [
            "Garima 30\n"
          ]
        }
      ]
    },
    {
      "cell_type": "code",
      "source": [
        "## access developer clss  variables\n",
        "d.programming_language"
      ],
      "metadata": {
        "colab": {
          "base_uri": "https://localhost:8080/",
          "height": 36
        },
        "id": "su5pMT6cJTKk",
        "outputId": "ba78318f-ed27-49a7-8306-929c4886da6a"
      },
      "execution_count": 59,
      "outputs": [
        {
          "output_type": "execute_result",
          "data": {
            "text/plain": [
              "'Python'"
            ],
            "application/vnd.google.colaboratory.intrinsic+json": {
              "type": "string"
            }
          },
          "metadata": {},
          "execution_count": 59
        }
      ]
    },
    {
      "cell_type": "code",
      "source": [],
      "metadata": {
        "id": "I3I762foJYtr"
      },
      "execution_count": null,
      "outputs": []
    },
    {
      "cell_type": "markdown",
      "source": [
        "**8. Design a base class called \"Shape\" with attributes like \"colour\" and \"border_width.\"**\n",
        "\n",
        "**Create derived classes, \"Rectangle\" and \"Circle,\" that inherit from \"Shape\" and add specific attributes like \"length\" and \"width\" for the \"Rectangle\" class and \"radius\" for the \"Circle\" class.**"
      ],
      "metadata": {
        "id": "hsKiFMjrJZvQ"
      }
    },
    {
      "cell_type": "code",
      "source": [
        "# parent class\n",
        "class Shape:\n",
        "  def __init__(self, colour, border_width):\n",
        "    self.colour = colour\n",
        "    self.border_width = border_width\n",
        "\n",
        "## child class one\n",
        "\n",
        "class Rectangle(Shape):\n",
        "  def __init__(self,colour, border_width, length , width):\n",
        "    ## call shape class constructor\n",
        "    super().__init__(colour, border_width)\n",
        "    self.length = length\n",
        "    self.width = width\n",
        "\n",
        "  ## create a method in rectangle class\n",
        "\n",
        "  def get_area(self):\n",
        "    area = self.length * self.width\n",
        "    print(f\"area of rectangle is: {area}\")\n",
        "\n",
        "## child class two\n",
        "\n",
        "class Circle(Shape):\n",
        "  def __init__(self,colour, border_width, radius):\n",
        "    ## call shape class constructor\n",
        "    super().__init__(colour, border_width)\n",
        "    self.radius = radius\n",
        "  def get_area(self):\n",
        "    area = 2 * 3.14 * (self.radius)**2\n",
        "    print(f\"area of circle is: {area}\")\n",
        "\n",
        "\n",
        "\n"
      ],
      "metadata": {
        "id": "_48QLtquJjZP"
      },
      "execution_count": 74,
      "outputs": []
    },
    {
      "cell_type": "code",
      "source": [
        "## creating object of rectangle class\n",
        "r = Rectangle(\"Red\",2,5, 8)"
      ],
      "metadata": {
        "id": "vcv350A7K8sS"
      },
      "execution_count": 75,
      "outputs": []
    },
    {
      "cell_type": "code",
      "source": [
        "# access parent class variables\n",
        "print(r.colour, r.border_width)"
      ],
      "metadata": {
        "colab": {
          "base_uri": "https://localhost:8080/"
        },
        "id": "d70z-cxKLGiA",
        "outputId": "8458ca4b-b161-4fdb-c00f-aae970d5955a"
      },
      "execution_count": 76,
      "outputs": [
        {
          "output_type": "stream",
          "name": "stdout",
          "text": [
            "Red 2\n"
          ]
        }
      ]
    },
    {
      "cell_type": "code",
      "source": [
        "## call get_area ()\n",
        "r.get_area()"
      ],
      "metadata": {
        "colab": {
          "base_uri": "https://localhost:8080/"
        },
        "id": "9-3zate1LKdp",
        "outputId": "e4a96784-49b3-45ab-c7e8-e09cf5416727"
      },
      "execution_count": 77,
      "outputs": [
        {
          "output_type": "stream",
          "name": "stdout",
          "text": [
            "area of rectangle is: 40\n"
          ]
        }
      ]
    },
    {
      "cell_type": "code",
      "source": [
        "## creating obj from circle class\n",
        "c = Circle(\"Blue\", 4, 2)"
      ],
      "metadata": {
        "id": "o8zpKGGlLOQM"
      },
      "execution_count": 78,
      "outputs": []
    },
    {
      "cell_type": "code",
      "source": [
        "# access parent class variables\n",
        "print(c.border_width, c.colour)"
      ],
      "metadata": {
        "colab": {
          "base_uri": "https://localhost:8080/"
        },
        "id": "Sb-ANvL1LUkp",
        "outputId": "2f66d851-ed5b-437f-c403-9b7a5a05628c"
      },
      "execution_count": 79,
      "outputs": [
        {
          "output_type": "stream",
          "name": "stdout",
          "text": [
            "4 Blue\n"
          ]
        }
      ]
    },
    {
      "cell_type": "code",
      "source": [
        "# call  get_area ()\n",
        "c.get_area()"
      ],
      "metadata": {
        "colab": {
          "base_uri": "https://localhost:8080/"
        },
        "id": "Dh8w5aSPLZ3B",
        "outputId": "5ee5313b-4aa3-4fa6-b934-b6437ec005d7"
      },
      "execution_count": 80,
      "outputs": [
        {
          "output_type": "stream",
          "name": "stdout",
          "text": [
            "area of circle is: 25.12\n"
          ]
        }
      ]
    },
    {
      "cell_type": "markdown",
      "source": [
        "**9. Create a base class called \"Device\" with attributes like \"brand\" and \"model.\"**\n",
        "\n",
        "***Derive two classes, \"Phone\" and \"Tablet,\" from \"Device.\" Add specific attributes like \"screen_size\" for the \"Phone\" class and \"battery_capacity\" for the \"Tablet\" class.**"
      ],
      "metadata": {
        "id": "1iKht_HxLqTO"
      }
    },
    {
      "cell_type": "code",
      "source": [
        "class Device:\n",
        "  def __init__(self,model,brand):\n",
        "    self.model = model\n",
        "    self.brand = brand\n",
        "\n",
        "  def get_details(self):\n",
        "    print(f\"model is: {self.model}, brand is: {self.brand}\", end = \",\")\n",
        "\n",
        "class Phone(Device):\n",
        "  def __init__(self,model, brand, screen_size):\n",
        "    # calling Device constructor\n",
        "    super().__init__(model,brand)\n",
        "    self.screen_size = screen_size\n",
        "\n",
        "  def get_details(self):\n",
        "    # invoking parent class get_display method\n",
        "    super().get_details()\n",
        "    print(f\" screen size is: {self.screen_size}\")\n",
        "\n",
        "class Tablet(Device):\n",
        "  def __init__(self,model,brand,battery_capacity):\n",
        "    super().__init__(model,brand)\n",
        "    self.battery_capacity = battery_capacity\n",
        "\n",
        "  def get_details(self):\n",
        "    super().get_details()\n",
        "    print(f\" battery capacity is: {self.battery_capacity}\")\n",
        "\n"
      ],
      "metadata": {
        "id": "zNgsoQM9LeA9"
      },
      "execution_count": 105,
      "outputs": []
    },
    {
      "cell_type": "code",
      "source": [
        "#  create obj of Tablet class\n",
        "t = Tablet(\"Z4\",\"Motorolla\",\"7 days\")"
      ],
      "metadata": {
        "id": "idNu5IdxNihC"
      },
      "execution_count": 106,
      "outputs": []
    },
    {
      "cell_type": "code",
      "source": [
        "t.get_details()"
      ],
      "metadata": {
        "colab": {
          "base_uri": "https://localhost:8080/"
        },
        "id": "miZudp3qNz_0",
        "outputId": "fa9a483f-a336-4b85-beac-521e800eff70"
      },
      "execution_count": 107,
      "outputs": [
        {
          "output_type": "stream",
          "name": "stdout",
          "text": [
            "model is: Z4, brand is: Motorolla, battery capacity is: 7 days\n"
          ]
        }
      ]
    },
    {
      "cell_type": "code",
      "source": [
        "# creating oj of phone\n",
        "\n",
        "p = Phone(\"10 legend\", \"IQOO\", \"4*4\")"
      ],
      "metadata": {
        "id": "CSbgqbaUN-Qu"
      },
      "execution_count": 108,
      "outputs": []
    },
    {
      "cell_type": "code",
      "source": [
        "p.get_details()"
      ],
      "metadata": {
        "colab": {
          "base_uri": "https://localhost:8080/"
        },
        "id": "Gz9mcil0OIzK",
        "outputId": "aad813a2-d778-47d7-ed35-f6437ff8b8aa"
      },
      "execution_count": 109,
      "outputs": [
        {
          "output_type": "stream",
          "name": "stdout",
          "text": [
            "model is: 10 legend, brand is: IQOO, screen size is: 4*4\n"
          ]
        }
      ]
    },
    {
      "cell_type": "markdown",
      "source": [
        "**10. Create a base class called \"BankAccount\" with attributes like \"account_number\" and \"balance.\"**\n",
        "\n",
        "**Derive two classes, \"SavingsAccount\" and \"CheckingAccount,\" from\n",
        "\"BankAccount.\" Add specific methods like \"calculate_interest\" for the \"SavingsAccount\" class and \"deduct_fees\" for the \"CheckingAccount\" class.**"
      ],
      "metadata": {
        "id": "UlO9LCBcOe5k"
      }
    },
    {
      "cell_type": "code",
      "source": [
        "class BankAccount:\n",
        "  def __init__(self, account_number, balance):\n",
        "    self.account_number = account_number\n",
        "    self.balance = balance\n",
        "\n",
        "\n",
        "class SavingsAccount(BankAccount):\n",
        "\n",
        "  def __init__(self, account_number, balance):\n",
        "    super().__init__(account_number, balance)\n",
        "\n",
        "  def calculate_interest(self):\n",
        "    interest  = self.balance * 0.02\n",
        "    print(f\"interest is: {interest}\")\n",
        "\n",
        "class CheckingAccount(BankAccount):\n",
        "\n",
        "  def __init__(self, account_number, balance):\n",
        "    super().__init__(account_number, balance)\n",
        "\n",
        "  def deduct_fees(self, fee):\n",
        "    if fee <= self.balance:\n",
        "      self.balance = self.balance - fee\n",
        "      print(f\"balance left is: {self.balance}\")\n",
        "    else:\n",
        "      print(\"Insufficient balance\")"
      ],
      "metadata": {
        "id": "to5jBE81ORry"
      },
      "execution_count": 126,
      "outputs": []
    },
    {
      "cell_type": "code",
      "source": [
        "s = SavingsAccount(12345, 1000)"
      ],
      "metadata": {
        "id": "JStKUi0-PZH_"
      },
      "execution_count": 127,
      "outputs": []
    },
    {
      "cell_type": "code",
      "source": [
        "s.calculate_interest()"
      ],
      "metadata": {
        "colab": {
          "base_uri": "https://localhost:8080/"
        },
        "id": "z-4yD5B1PduY",
        "outputId": "3be4cc61-0e2d-412b-92bf-1aa6741201ee"
      },
      "execution_count": 128,
      "outputs": [
        {
          "output_type": "stream",
          "name": "stdout",
          "text": [
            "interest is: 20.0\n"
          ]
        }
      ]
    },
    {
      "cell_type": "code",
      "source": [
        "d = CheckingAccount(123456, 1000)"
      ],
      "metadata": {
        "id": "zq_JeqbCPfn_"
      },
      "execution_count": 129,
      "outputs": []
    },
    {
      "cell_type": "code",
      "source": [
        "d.deduct_fees(300)\n"
      ],
      "metadata": {
        "colab": {
          "base_uri": "https://localhost:8080/"
        },
        "id": "RqnqEzKeQel6",
        "outputId": "417d1a25-a680-46d6-9ffc-8d7187a6bcf8"
      },
      "execution_count": 130,
      "outputs": [
        {
          "output_type": "stream",
          "name": "stdout",
          "text": [
            "balance left is: 700\n"
          ]
        }
      ]
    },
    {
      "cell_type": "code",
      "source": [
        "d.balance"
      ],
      "metadata": {
        "colab": {
          "base_uri": "https://localhost:8080/"
        },
        "id": "12VuQThFQg9H",
        "outputId": "ab95b2a2-4460-4122-a73e-eabe891dd93f"
      },
      "execution_count": 131,
      "outputs": [
        {
          "output_type": "execute_result",
          "data": {
            "text/plain": [
              "700"
            ]
          },
          "metadata": {},
          "execution_count": 131
        }
      ]
    },
    {
      "cell_type": "code",
      "source": [
        "d.deduct_fees(9000)"
      ],
      "metadata": {
        "colab": {
          "base_uri": "https://localhost:8080/"
        },
        "id": "P4usS-_nQkIG",
        "outputId": "bc27da1d-2811-4dfe-cc32-daa448ace3c8"
      },
      "execution_count": 133,
      "outputs": [
        {
          "output_type": "stream",
          "name": "stdout",
          "text": [
            "Insufficient balance\n"
          ]
        }
      ]
    },
    {
      "cell_type": "code",
      "source": [],
      "metadata": {
        "id": "Q86TBqLmQrtg"
      },
      "execution_count": null,
      "outputs": []
    }
  ]
}